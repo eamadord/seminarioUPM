{
  "nbformat": 4,
  "nbformat_minor": 0,
  "metadata": {
    "language_info": {
      "codemirror_mode": {
        "name": "ipython",
        "version": 3
      },
      "file_extension": ".py",
      "mimetype": "text/x-python",
      "name": "python",
      "nbconvert_exporter": "python",
      "pygments_lexer": "ipython3",
      "version": "3.8.10"
    },
    "orig_nbformat": 2,
    "kernelspec": {
      "name": "python3810jvsc74a57bd00b6db1c9eb42b02ddde262e91131b34b8bc0f19661aef4215bc059af74454cb9",
      "display_name": "Python 3.8.10 64-bit"
    },
    "metadata": {
      "interpreter": {
        "hash": "0b6db1c9eb42b02ddde262e91131b34b8bc0f19661aef4215bc059af74454cb9"
      }
    },
    "colab": {
      "name": "4-preprocessingtweets.ipynb",
      "provenance": [],
      "collapsed_sections": [
        "2JXtJSB_lFgW"
      ],
      "include_colab_link": true
    }
  },
  "cells": [
    {
      "cell_type": "markdown",
      "metadata": {
        "id": "view-in-github",
        "colab_type": "text"
      },
      "source": [
        "<a href=\"https://colab.research.google.com/github/isegura/seminarioUPM/blob/main/4_preprocessingtweets.ipynb\" target=\"_parent\"><img src=\"https://colab.research.google.com/assets/colab-badge.svg\" alt=\"Open In Colab\"/></a>"
      ]
    },
    {
      "cell_type": "markdown",
      "metadata": {
        "id": "_GfRYYXzlFgI"
      },
      "source": [
        "# Sentiment Analysis for tweets about Covid-19"
      ]
    },
    {
      "cell_type": "markdown",
      "metadata": {
        "id": "cRXCseEAlFgM"
      },
      "source": [
        "## Reading the training data"
      ]
    },
    {
      "cell_type": "code",
      "metadata": {
        "id": "eDnK63cQ5aLi"
      },
      "source": [
        "# Load the Drive helper and mount\n",
        "from google.colab import drive\n",
        "drive.mount('/content/drive')\n",
        "root='drive/My Drive/Colab Notebooks/seminarioUPM/'\n"
      ],
      "execution_count": null,
      "outputs": []
    },
    {
      "cell_type": "code",
      "metadata": {
        "id": "PCoP_7zTlFgM",
        "outputId": "b5d69d6c-7b55-475c-e085-a1e97a99b078"
      },
      "source": [
        "import pandas as pd\n",
        "\n",
        "data_train = pd.read_csv(root+'data/Corona_train.csv', encoding=\"latin1\")\n",
        "data_train.head()"
      ],
      "execution_count": null,
      "outputs": [
        {
          "output_type": "execute_result",
          "data": {
            "text/plain": [
              "   UserName  ScreenName                   Location     TweetAt  \\\n",
              "0      3800       48752                         UK  16-03-2020   \n",
              "1      3801       48753                  Vagabonds  16-03-2020   \n",
              "2      3802       48754                        NaN  16-03-2020   \n",
              "3      3803       48755                        NaN  16-03-2020   \n",
              "4      3804       48756  ÃT: 36.319708,-82.363649  16-03-2020   \n",
              "\n",
              "                                       OriginalTweet           Sentiment  \n",
              "0  advice Talk to your neighbours family to excha...            Positive  \n",
              "1  Coronavirus Australia: Woolworths to give elde...            Positive  \n",
              "2  My food stock is not the only one which is emp...            Positive  \n",
              "3  Me, ready to go at supermarket during the #COV...  Extremely Negative  \n",
              "4  As news of the regionÂs first confirmed COVID...            Positive  "
            ],
            "text/html": [
              "<div>\n",
              "<style scoped>\n",
              "    .dataframe tbody tr th:only-of-type {\n",
              "        vertical-align: middle;\n",
              "    }\n",
              "\n",
              "    .dataframe tbody tr th {\n",
              "        vertical-align: top;\n",
              "    }\n",
              "\n",
              "    .dataframe thead th {\n",
              "        text-align: right;\n",
              "    }\n",
              "</style>\n",
              "<table border=\"1\" class=\"dataframe\">\n",
              "  <thead>\n",
              "    <tr style=\"text-align: right;\">\n",
              "      <th></th>\n",
              "      <th>UserName</th>\n",
              "      <th>ScreenName</th>\n",
              "      <th>Location</th>\n",
              "      <th>TweetAt</th>\n",
              "      <th>OriginalTweet</th>\n",
              "      <th>Sentiment</th>\n",
              "    </tr>\n",
              "  </thead>\n",
              "  <tbody>\n",
              "    <tr>\n",
              "      <th>0</th>\n",
              "      <td>3800</td>\n",
              "      <td>48752</td>\n",
              "      <td>UK</td>\n",
              "      <td>16-03-2020</td>\n",
              "      <td>advice Talk to your neighbours family to excha...</td>\n",
              "      <td>Positive</td>\n",
              "    </tr>\n",
              "    <tr>\n",
              "      <th>1</th>\n",
              "      <td>3801</td>\n",
              "      <td>48753</td>\n",
              "      <td>Vagabonds</td>\n",
              "      <td>16-03-2020</td>\n",
              "      <td>Coronavirus Australia: Woolworths to give elde...</td>\n",
              "      <td>Positive</td>\n",
              "    </tr>\n",
              "    <tr>\n",
              "      <th>2</th>\n",
              "      <td>3802</td>\n",
              "      <td>48754</td>\n",
              "      <td>NaN</td>\n",
              "      <td>16-03-2020</td>\n",
              "      <td>My food stock is not the only one which is emp...</td>\n",
              "      <td>Positive</td>\n",
              "    </tr>\n",
              "    <tr>\n",
              "      <th>3</th>\n",
              "      <td>3803</td>\n",
              "      <td>48755</td>\n",
              "      <td>NaN</td>\n",
              "      <td>16-03-2020</td>\n",
              "      <td>Me, ready to go at supermarket during the #COV...</td>\n",
              "      <td>Extremely Negative</td>\n",
              "    </tr>\n",
              "    <tr>\n",
              "      <th>4</th>\n",
              "      <td>3804</td>\n",
              "      <td>48756</td>\n",
              "      <td>ÃT: 36.319708,-82.363649</td>\n",
              "      <td>16-03-2020</td>\n",
              "      <td>As news of the regionÂs first confirmed COVID...</td>\n",
              "      <td>Positive</td>\n",
              "    </tr>\n",
              "  </tbody>\n",
              "</table>\n",
              "</div>"
            ]
          },
          "metadata": {
            "tags": []
          },
          "execution_count": 6
        }
      ]
    },
    {
      "cell_type": "code",
      "metadata": {
        "id": "h9ATg8bNlFgM",
        "outputId": "e60074cb-468b-4ac0-b4fa-8a88ab112e17"
      },
      "source": [
        "print(f'Number of instances: {data_train.shape[0]}')\n",
        "print(f'Number of cols: {data_train.shape[1]}')\n",
        "print(f'Name of columns: {data_train.columns.values}')"
      ],
      "execution_count": null,
      "outputs": [
        {
          "output_type": "stream",
          "text": [
            "Number of obs: 41156\n",
            "Number of cols: 6\n",
            "Name of columns: ['UserName' 'ScreenName' 'Location' 'TweetAt' 'OriginalTweet' 'Sentiment']\n"
          ],
          "name": "stdout"
        }
      ]
    },
    {
      "cell_type": "code",
      "metadata": {
        "id": "YnQL6QoXlFgN",
        "outputId": "3b4a2f2d-45f2-4ce7-e9f6-76639980d0a8"
      },
      "source": [
        "# groping them by sentiment\n",
        "%matplotlib inline\n",
        "import matplotlib.pyplot as plt\n",
        "\n",
        "sentiment_class = data_train['OriginalTweet'].groupby(data_train.Sentiment).count()\n",
        "ax = sentiment_class.plot(kind='pie')\n",
        "ax.set_title('Distribution of Tweets by Sentiment Class in training dataset')"
      ],
      "execution_count": null,
      "outputs": [
        {
          "output_type": "execute_result",
          "data": {
            "text/plain": [
              "Text(0.5, 1.0, 'Distribution of Tweets by Sentiment Class in training dataset')"
            ]
          },
          "metadata": {
            "tags": []
          },
          "execution_count": 8
        },
        {
          "output_type": "display_data",
          "data": {
            "text/plain": [
              "<Figure size 432x288 with 1 Axes>"
            ],
            "image/png": "[encoded data removed]"
          },
          "metadata": {
            "tags": [],
            "image/png": {
              "width": 383,
              "height": 247
            }
          }
        }
      ]
    },
    {
      "cell_type": "code",
      "metadata": {
        "id": "PvZ_a1-N5u2p"
      },
      "source": [
        "# in percentages:\n",
        "sentiment_class_per = sentiment_class/data_train.shape[0]*100\n",
        "print(sentiment_class_per) "
      ],
      "execution_count": null,
      "outputs": []
    },
    {
      "cell_type": "code",
      "metadata": {
        "id": "Y94W_KgM5yuq"
      },
      "source": [
        "ax = sentiment_class_per.plot(kind='bar')\n",
        "ax.set_title('Class distribution in training set in percentages')"
      ],
      "execution_count": null,
      "outputs": []
    },
    {
      "cell_type": "markdown",
      "metadata": {
        "id": "c_iWtkEA55aL"
      },
      "source": [
        "Some examples:"
      ]
    },
    {
      "cell_type": "code",
      "metadata": {
        "id": "d3-mBRBl56zp"
      },
      "source": [
        "# example of one tweet along with its sentiment:\n",
        "data_train.iloc[5,4:6].values"
      ],
      "execution_count": null,
      "outputs": []
    },
    {
      "cell_type": "code",
      "metadata": {
        "id": "KxQpUlL7lFgM",
        "outputId": "5e5b7771-f76a-4946-edcf-985a44c86b1c"
      },
      "source": [
        "nltk.download('stopwords')\n",
        "stop_words = set(stopwords.words('english'))"
      ],
      "execution_count": null,
      "outputs": [
        {
          "output_type": "stream",
          "text": [
            "[nltk_data] Downloading package stopwords to\n",
            "[nltk_data]     C:\\Users\\jobandtalent\\AppData\\Roaming\\nltk_data...\n",
            "[nltk_data]   Unzipping corpora\\stopwords.zip.\n"
          ],
          "name": "stderr"
        }
      ]
    },
    {
      "cell_type": "markdown",
      "metadata": {
        "id": "Kf6lgLNilFgO"
      },
      "source": [
        "## Loading dataset"
      ]
    },
    {
      "cell_type": "code",
      "metadata": {
        "id": "TYa2tTBFlFgO",
        "outputId": "d0e3e2d7-bbc7-4359-8541-f21c47cd0138"
      },
      "source": [
        "data_test = pd.read_csv(root+'data/Corona_test.csv', encoding=\"latin1\")\n",
        "print(f'Number of obs: {data_test.shape[0]}')\n",
        "print(f'Number of cols: {data_test.shape[1]}')\n",
        "print(f'Name of columns: {data_test.columns.values}')\n",
        "print(f'Test to Training ratio: {data_test.shape[0]/data_train.shape[0]}')"
      ],
      "execution_count": null,
      "outputs": [
        {
          "output_type": "execute_result",
          "data": {
            "text/plain": [
              "   UserName  ScreenName             Location     TweetAt  \\\n",
              "0         1       44953                  NYC  02-03-2020   \n",
              "1         2       44954          Seattle, WA  02-03-2020   \n",
              "2         3       44955                  NaN  02-03-2020   \n",
              "3         4       44956          Chicagoland  02-03-2020   \n",
              "4         5       44957  Melbourne, Victoria  03-03-2020   \n",
              "\n",
              "                                       OriginalTweet           Sentiment  \n",
              "0  TRENDING: New Yorkers encounter empty supermar...  Extremely Negative  \n",
              "1  When I couldn't find hand sanitizer at Fred Me...            Positive  \n",
              "2  Find out how you can protect yourself and love...  Extremely Positive  \n",
              "3  #Panic buying hits #NewYork City as anxious sh...            Negative  \n",
              "4  #toiletpaper #dunnypaper #coronavirus #coronav...             Neutral  "
            ],
            "text/html": [
              "<div>\n",
              "<style scoped>\n",
              "    .dataframe tbody tr th:only-of-type {\n",
              "        vertical-align: middle;\n",
              "    }\n",
              "\n",
              "    .dataframe tbody tr th {\n",
              "        vertical-align: top;\n",
              "    }\n",
              "\n",
              "    .dataframe thead th {\n",
              "        text-align: right;\n",
              "    }\n",
              "</style>\n",
              "<table border=\"1\" class=\"dataframe\">\n",
              "  <thead>\n",
              "    <tr style=\"text-align: right;\">\n",
              "      <th></th>\n",
              "      <th>UserName</th>\n",
              "      <th>ScreenName</th>\n",
              "      <th>Location</th>\n",
              "      <th>TweetAt</th>\n",
              "      <th>OriginalTweet</th>\n",
              "      <th>Sentiment</th>\n",
              "    </tr>\n",
              "  </thead>\n",
              "  <tbody>\n",
              "    <tr>\n",
              "      <th>0</th>\n",
              "      <td>1</td>\n",
              "      <td>44953</td>\n",
              "      <td>NYC</td>\n",
              "      <td>02-03-2020</td>\n",
              "      <td>TRENDING: New Yorkers encounter empty supermar...</td>\n",
              "      <td>Extremely Negative</td>\n",
              "    </tr>\n",
              "    <tr>\n",
              "      <th>1</th>\n",
              "      <td>2</td>\n",
              "      <td>44954</td>\n",
              "      <td>Seattle, WA</td>\n",
              "      <td>02-03-2020</td>\n",
              "      <td>When I couldn't find hand sanitizer at Fred Me...</td>\n",
              "      <td>Positive</td>\n",
              "    </tr>\n",
              "    <tr>\n",
              "      <th>2</th>\n",
              "      <td>3</td>\n",
              "      <td>44955</td>\n",
              "      <td>NaN</td>\n",
              "      <td>02-03-2020</td>\n",
              "      <td>Find out how you can protect yourself and love...</td>\n",
              "      <td>Extremely Positive</td>\n",
              "    </tr>\n",
              "    <tr>\n",
              "      <th>3</th>\n",
              "      <td>4</td>\n",
              "      <td>44956</td>\n",
              "      <td>Chicagoland</td>\n",
              "      <td>02-03-2020</td>\n",
              "      <td>#Panic buying hits #NewYork City as anxious sh...</td>\n",
              "      <td>Negative</td>\n",
              "    </tr>\n",
              "    <tr>\n",
              "      <th>4</th>\n",
              "      <td>5</td>\n",
              "      <td>44957</td>\n",
              "      <td>Melbourne, Victoria</td>\n",
              "      <td>03-03-2020</td>\n",
              "      <td>#toiletpaper #dunnypaper #coronavirus #coronav...</td>\n",
              "      <td>Neutral</td>\n",
              "    </tr>\n",
              "  </tbody>\n",
              "</table>\n",
              "</div>"
            ]
          },
          "metadata": {
            "tags": []
          },
          "execution_count": 12
        }
      ]
    },
    {
      "cell_type": "code",
      "metadata": {
        "id": "nhD9F7gzlFgP",
        "outputId": "97780732-e193-44e9-a7bc-e120563a5ef5"
      },
      "source": [
        "sentiment_test_class = data_test['OriginalTweet'].groupby(data_test.Sentiment).count()\n",
        "ax = sentiment_test_class.plot(kind='pie')\n",
        "ax.set_title('Distribution of Tweets by Sentiment Class in testing dataset')"
      ],
      "execution_count": null,
      "outputs": [
        {
          "output_type": "execute_result",
          "data": {
            "text/plain": [
              "Text(0.5, 1.0, 'Distribution of Tweets by Sentiment Class in testing dataset')"
            ]
          },
          "metadata": {
            "tags": []
          },
          "execution_count": 15
        },
        {
          "output_type": "display_data",
          "data": {
            "text/plain": [
              "<Figure size 432x288 with 1 Axes>"
            ],
            "image/png": "[encoded data removed]"
          },
          "metadata": {
            "tags": [],
            "image/png": {
              "width": 377,
              "height": 247
            }
          }
        }
      ]
    },
    {
      "cell_type": "code",
      "metadata": {
        "id": "9U-aQCR2lFgQ",
        "outputId": "0c769d57-caf3-4882-fd21-7a3884120ac3"
      },
      "source": [
        "# in percentages:\n",
        "sentiment_test_class_per = sentiment_test_class/data_test.shape[0]*100\n",
        "print(sentiment_test_class_per) "
      ],
      "execution_count": null,
      "outputs": [
        {
          "output_type": "stream",
          "text": [
            "Sentiment\n",
            "Extremely Negative    15.587151\n",
            "Extremely Positive    15.771459\n",
            "Negative              27.409163\n",
            "Neutral               16.298052\n",
            "Positive              24.934176\n",
            "Name: OriginalTweet, dtype: float64\n"
          ],
          "name": "stdout"
        }
      ]
    },
    {
      "cell_type": "code",
      "metadata": {
        "id": "R5MIce79lFgQ",
        "outputId": "c2372df1-13a1-486a-97be-bcd8e31f20ef"
      },
      "source": [
        "data = {'Training data [%]': sentiment_class_per,\n",
        "        'Testing data [%]': sentiment_test_class_per}\n",
        "Sent_distribution = pd.concat(data, axis=1)\n",
        "Sent_distribution"
      ],
      "execution_count": null,
      "outputs": [
        {
          "output_type": "execute_result",
          "data": {
            "text/plain": [
              "                    Training data [%]  Testing data [%]\n",
              "Sentiment                                              \n",
              "Extremely Negative          13.317621         15.587151\n",
              "Extremely Positive          16.094859         15.771459\n",
              "Negative                    24.096122         27.409163\n",
              "Neutral                     18.738459         16.298052\n",
              "Positive                    27.752940         24.934176"
            ],
            "text/html": [
              "<div>\n",
              "<style scoped>\n",
              "    .dataframe tbody tr th:only-of-type {\n",
              "        vertical-align: middle;\n",
              "    }\n",
              "\n",
              "    .dataframe tbody tr th {\n",
              "        vertical-align: top;\n",
              "    }\n",
              "\n",
              "    .dataframe thead th {\n",
              "        text-align: right;\n",
              "    }\n",
              "</style>\n",
              "<table border=\"1\" class=\"dataframe\">\n",
              "  <thead>\n",
              "    <tr style=\"text-align: right;\">\n",
              "      <th></th>\n",
              "      <th>Training data [%]</th>\n",
              "      <th>Testing data [%]</th>\n",
              "    </tr>\n",
              "    <tr>\n",
              "      <th>Sentiment</th>\n",
              "      <th></th>\n",
              "      <th></th>\n",
              "    </tr>\n",
              "  </thead>\n",
              "  <tbody>\n",
              "    <tr>\n",
              "      <th>Extremely Negative</th>\n",
              "      <td>13.317621</td>\n",
              "      <td>15.587151</td>\n",
              "    </tr>\n",
              "    <tr>\n",
              "      <th>Extremely Positive</th>\n",
              "      <td>16.094859</td>\n",
              "      <td>15.771459</td>\n",
              "    </tr>\n",
              "    <tr>\n",
              "      <th>Negative</th>\n",
              "      <td>24.096122</td>\n",
              "      <td>27.409163</td>\n",
              "    </tr>\n",
              "    <tr>\n",
              "      <th>Neutral</th>\n",
              "      <td>18.738459</td>\n",
              "      <td>16.298052</td>\n",
              "    </tr>\n",
              "    <tr>\n",
              "      <th>Positive</th>\n",
              "      <td>27.752940</td>\n",
              "      <td>24.934176</td>\n",
              "    </tr>\n",
              "  </tbody>\n",
              "</table>\n",
              "</div>"
            ]
          },
          "metadata": {
            "tags": []
          },
          "execution_count": 17
        }
      ]
    },
    {
      "cell_type": "markdown",
      "metadata": {
        "id": "6KgIuq0ZlFgQ"
      },
      "source": [
        "## Preprocessing\n",
        "\n",
        "We will deal only with the columns for the tweet and the sentiment. "
      ]
    },
    {
      "cell_type": "code",
      "metadata": {
        "id": "caqyldA3lFgQ"
      },
      "source": [
        "train = data_train.iloc[:,4:6]\n",
        "#train.head(2)\n",
        "test = data_test.iloc[:,4:6]\n",
        "#test.head(2)\n",
        "# checking for NA values: \n",
        "print(train.isna().sum())\n",
        "# NA values in testing data:\n",
        "print(test.isna().sum())\n"
      ],
      "execution_count": null,
      "outputs": []
    },
    {
      "cell_type": "markdown",
      "metadata": {
        "id": "VTN98J0klFgR"
      },
      "source": [
        "## Encoding the sentiment classes\n",
        "\n",
        "We will use encoding for the sentiment classes, so that the analysis gets easier when applying the models."
      ]
    },
    {
      "cell_type": "code",
      "metadata": {
        "id": "TrX_jGIYlFgR",
        "outputId": "e7941114-8b56-4244-bf65-873af12ab948"
      },
      "source": [
        "from sklearn.preprocessing import LabelEncoder\n",
        "\n",
        "le = LabelEncoder()\n",
        "train['Sentiment'] = le.fit_transform(train['Sentiment'])\n",
        "#train.head(2)\n",
        "test['Sentiment'] = le.fit_transform(test['Sentiment'])\n",
        "#test.head(2)\n",
        "\n",
        "# transform train and test variables to numpy arrays:\n",
        "train = train.to_numpy()\n",
        "test = test.to_numpy()\n",
        "# now we have both variables as numpy arrays\n",
        "#print(type(test), type(train))"
      ],
      "execution_count": null,
      "outputs": [
        {
          "output_type": "execute_result",
          "data": {
            "text/plain": [
              "                                       OriginalTweet  Sentiment\n",
              "0  advice Talk to your neighbours family to excha...          4\n",
              "1  Coronavirus Australia: Woolworths to give elde...          4"
            ],
            "text/html": [
              "<div>\n",
              "<style scoped>\n",
              "    .dataframe tbody tr th:only-of-type {\n",
              "        vertical-align: middle;\n",
              "    }\n",
              "\n",
              "    .dataframe tbody tr th {\n",
              "        vertical-align: top;\n",
              "    }\n",
              "\n",
              "    .dataframe thead th {\n",
              "        text-align: right;\n",
              "    }\n",
              "</style>\n",
              "<table border=\"1\" class=\"dataframe\">\n",
              "  <thead>\n",
              "    <tr style=\"text-align: right;\">\n",
              "      <th></th>\n",
              "      <th>OriginalTweet</th>\n",
              "      <th>Sentiment</th>\n",
              "    </tr>\n",
              "  </thead>\n",
              "  <tbody>\n",
              "    <tr>\n",
              "      <th>0</th>\n",
              "      <td>advice Talk to your neighbours family to excha...</td>\n",
              "      <td>4</td>\n",
              "    </tr>\n",
              "    <tr>\n",
              "      <th>1</th>\n",
              "      <td>Coronavirus Australia: Woolworths to give elde...</td>\n",
              "      <td>4</td>\n",
              "    </tr>\n",
              "  </tbody>\n",
              "</table>\n",
              "</div>"
            ]
          },
          "metadata": {
            "tags": []
          },
          "execution_count": 22
        }
      ]
    },
    {
      "cell_type": "code",
      "metadata": {
        "id": "YLfh8TTnlFgS",
        "outputId": "aea1f0d6-469c-49d6-8c13-dc63067302de"
      },
      "source": [
        "print(le.inverse_transform([0,1,2,3,4]))"
      ],
      "execution_count": null,
      "outputs": [
        {
          "output_type": "stream",
          "text": [
            "['Extremely Negative' 'Extremely Positive' 'Negative' 'Neutral' 'Positive']\n"
          ],
          "name": "stdout"
        }
      ]
    },
    {
      "cell_type": "code",
      "metadata": {
        "id": "A_mFhZ5elFgL",
        "outputId": "711b5b77-ac72-4d05-e319-26f40928424b"
      },
      "source": [
        "%config InlineBackend.figure_format = 'retina'\n",
        "\n",
        "import math\n",
        "\n",
        "# natural language toolkit\n",
        "import nltk\n",
        "from nltk.corpus import stopwords\n",
        "from nltk.tokenize import word_tokenize \n",
        "from nltk.stem import PorterStemmer\n",
        "\n",
        "import re\n",
        "import string\n",
        "import random\n",
        "\n",
        "\n",
        "from gensim.parsing.preprocessing import remove_stopwords"
      ],
      "execution_count": null,
      "outputs": [
        {
          "output_type": "stream",
          "text": [
            "C:\\Users\\jobandtalent\\AppData\\Local\\Programs\\Python\\Python38\\lib\\site-packages\\gensim\\similarities\\__init__.py:15: UserWarning: The gensim.similarities.levenshtein submodule is disabled, because the optional Levenshtein package <https://pypi.org/project/python-Levenshtein/> is unavailable. Install Levenhstein (e.g. `pip install python-Levenshtein`) to suppress this warning.\n",
            "  warnings.warn(msg)\n"
          ],
          "name": "stderr"
        }
      ]
    },
    {
      "cell_type": "markdown",
      "metadata": {
        "id": "xgkvNTmKlFgS"
      },
      "source": [
        "## Cleaning the data from hashtags and twitter symbols\n",
        "\n",
        "Removing all these symbols will facilitate our analysis and make the models understand the words better."
      ]
    },
    {
      "cell_type": "code",
      "metadata": {
        "id": "sLtH8xnIlFgT"
      },
      "source": [
        "# for the training texts\n",
        "def clean_texts(df):\n",
        "\n",
        "    for i in range(0,len(df)):\n",
        "        text = df[i,0]\n",
        "        text = re.sub(\"@\\S+\", \" \", text)      # getting rid of mentions @\n",
        "        text = re.sub(\"https*\\S+\", \" \", text) # getting rid of links, that can be present everywhere\n",
        "        text = re.sub(\"#\\S+\", \" \", text)      # getting rid of hashtags\n",
        "        text = re.sub(\"\\'\\w+\", '', text)      # getting rid of spaces\n",
        "        text = re.sub('[%s]' % re.escape(string.punctuation), ' ', text) # changing punctuation\n",
        "        text = re.sub(r'\\w*\\d+\\w*', '', text) # remove prefixes\n",
        "        text = re.sub('\\s{2,}', \" \", text)    # replaces two or more spaces by only one\n",
        "        text = text.lower()                   # set all text to lower letters\n",
        "        text = re.sub('gt gt gt', \"\", text)   # removes this series of words that are for no use\n",
        "        text = re.sub(\"^\\d+\\s|\\s\\d+\\s|\\s\\d+$\", \" \", text)\n",
        "        df[i,0]=text         # store the new variable \n",
        "    \n"
      ],
      "execution_count": null,
      "outputs": []
    },
    {
      "cell_type": "code",
      "metadata": {
        "id": "-4Wo_QgylFgT"
      },
      "source": [
        "clean_texts(train)\n",
        "clean_texts(test)"
      ],
      "execution_count": null,
      "outputs": []
    },
    {
      "cell_type": "markdown",
      "metadata": {
        "id": "7EZv-lHplFgT"
      },
      "source": [
        "Now we will see if the texts look the way we would expect:"
      ]
    },
    {
      "cell_type": "code",
      "metadata": {
        "id": "ZYxebrg9lFgT",
        "outputId": "0bbbf78d-a6cf-4d61-dcc4-5e458ac4923f"
      },
      "source": [
        "# training\n",
        "for i in range(3):\n",
        "    tweet = train[random.randint(0,len(train)-1),0]\n",
        "    print('-------')\n",
        "    print(tweet)"
      ],
      "execution_count": null,
      "outputs": [
        {
          "output_type": "stream",
          "text": [
            "-------\n",
            "consumers at this time of covid most of us will prefer to shop online kindly make sure u are vigilant to be corned with this up coming apps for online shopping choose the ones with a physical address that u can locate in case of complain \n",
            "-------\n",
            "pretty sure within a week or two supermarket supply chains will dry up as more counties are effected by covid and possibly go into lockdown if so would the government introduce a form of rationing so that people can eat somehow i don think so \n",
            "-------\n",
            "chinese tycoons are looking to snap up global vital assets pummeled by the deadly at bargain prices the new power war post has begun as companies scramble to find a way to protect themselves \n"
          ],
          "name": "stdout"
        }
      ]
    },
    {
      "cell_type": "markdown",
      "metadata": {
        "id": "e5JW63TYlFgV"
      },
      "source": [
        "## Removing stopwords"
      ]
    },
    {
      "cell_type": "code",
      "metadata": {
        "id": "PAntSADGlFgV"
      },
      "source": [
        "# get all stopwords\n",
        "def remove_stopwords(df)\n",
        "    stop_words = set(stopwords.words('english')) \n",
        "\n",
        "    # for the training set:\n",
        "    for i in range(0,len(df)):\n",
        "        text = str(df[i,0])  # select the text in the obs. i\n",
        "        text_clean = remove_stopwords(text)\n",
        "        #word_tokens = word_tokenize(text_clean) \n",
        "        df[i,0] = text_clean\n",
        "\n",
        "remove_stopwords(train)\n",
        "remove_stopwords(test)\n"
      ],
      "execution_count": null,
      "outputs": []
    },
    {
      "cell_type": "markdown",
      "metadata": {
        "id": "xnIZvxV8lFgV"
      },
      "source": [
        "## Applying Lemmatization to further simplifying the sentences in the tweets"
      ]
    },
    {
      "cell_type": "code",
      "metadata": {
        "id": "vzLL8c91lFgV"
      },
      "source": [
        "# converting to pandas dataframe\n",
        "train_df = pd.DataFrame(train)\n",
        "test_df = pd.DataFrame(test)\n",
        "\n",
        "train_df.columns = ['tweet', 'label']\n",
        "test_df.columns = ['tweet', 'label']"
      ],
      "execution_count": null,
      "outputs": []
    },
    {
      "cell_type": "code",
      "metadata": {
        "id": "zS4rNlaglFgV",
        "outputId": "bbdba4f0-6703-4a40-92b8-170b21cad2d1"
      },
      "source": [
        "test_df.head()"
      ],
      "execution_count": null,
      "outputs": [
        {
          "output_type": "execute_result",
          "data": {
            "text/plain": [
              "                                               tweet label\n",
              "0  trending new yorkers encounter supermarket she...     0\n",
              "1  couldn hand sanitizer fred meyer turned pack p...     4\n",
              "2                                 protect loved ones     1\n",
              "3  buying hits city anxious shoppers stock food a...     2\n",
              "4   week buying baby milk powder buying toilet paper     3"
            ],
            "text/html": [
              "<div>\n",
              "<style scoped>\n",
              "    .dataframe tbody tr th:only-of-type {\n",
              "        vertical-align: middle;\n",
              "    }\n",
              "\n",
              "    .dataframe tbody tr th {\n",
              "        vertical-align: top;\n",
              "    }\n",
              "\n",
              "    .dataframe thead th {\n",
              "        text-align: right;\n",
              "    }\n",
              "</style>\n",
              "<table border=\"1\" class=\"dataframe\">\n",
              "  <thead>\n",
              "    <tr style=\"text-align: right;\">\n",
              "      <th></th>\n",
              "      <th>tweet</th>\n",
              "      <th>label</th>\n",
              "    </tr>\n",
              "  </thead>\n",
              "  <tbody>\n",
              "    <tr>\n",
              "      <th>0</th>\n",
              "      <td>trending new yorkers encounter supermarket she...</td>\n",
              "      <td>0</td>\n",
              "    </tr>\n",
              "    <tr>\n",
              "      <th>1</th>\n",
              "      <td>couldn hand sanitizer fred meyer turned pack p...</td>\n",
              "      <td>4</td>\n",
              "    </tr>\n",
              "    <tr>\n",
              "      <th>2</th>\n",
              "      <td>protect loved ones</td>\n",
              "      <td>1</td>\n",
              "    </tr>\n",
              "    <tr>\n",
              "      <th>3</th>\n",
              "      <td>buying hits city anxious shoppers stock food a...</td>\n",
              "      <td>2</td>\n",
              "    </tr>\n",
              "    <tr>\n",
              "      <th>4</th>\n",
              "      <td>week buying baby milk powder buying toilet paper</td>\n",
              "      <td>3</td>\n",
              "    </tr>\n",
              "  </tbody>\n",
              "</table>\n",
              "</div>"
            ]
          },
          "metadata": {
            "tags": []
          },
          "execution_count": 36
        }
      ]
    },
    {
      "cell_type": "code",
      "metadata": {
        "id": "G3efW1hVlFgW",
        "outputId": "59366595-057d-4c43-f4a8-3baa7946bbfb"
      },
      "source": [
        "# for the training set\n",
        "nltk.download('punkt')\n",
        "nltk.download('wordnet')\n",
        "train_df['Corpus'] = [nltk.word_tokenize(text) for text in train_df.tweet]\n",
        "lemma = nltk.WordNetLemmatizer()\n",
        "train_df.Corpus = train_df.apply(lambda x: [lemma.lemmatize(word) for word in x.Corpus], axis=1)\n",
        "train_df.Corpus = train_df.apply(lambda x: \" \".join(x.Corpus),axis=1)\n",
        "\n",
        "# for the testing set\n",
        "\n",
        "test_df['Corpus'] = [nltk.word_tokenize(text) for text in test_df.tweet]\n",
        "lemma = nltk.WordNetLemmatizer()\n",
        "test_df.Corpus = test_df.apply(lambda x: [lemma.lemmatize(word) for word in x.Corpus], axis=1)\n",
        "test_df.Corpus = test_df.apply(lambda x: \" \".join(x.Corpus),axis=1)"
      ],
      "execution_count": null,
      "outputs": [
        {
          "output_type": "stream",
          "text": [
            "[nltk_data] Downloading package punkt to\n",
            "[nltk_data]     C:\\Users\\jobandtalent\\AppData\\Roaming\\nltk_data...\n",
            "[nltk_data]   Package punkt is already up-to-date!\n",
            "[nltk_data] Downloading package wordnet to\n",
            "[nltk_data]     C:\\Users\\jobandtalent\\AppData\\Roaming\\nltk_data...\n",
            "[nltk_data]   Unzipping corpora\\wordnet.zip.\n"
          ],
          "name": "stderr"
        }
      ]
    },
    {
      "cell_type": "code",
      "metadata": {
        "id": "NOvxIK0olFgW"
      },
      "source": [
        "# selecting only label and corpus as they are the ones we will keep\n",
        "covid_train = train_df[['Corpus', 'label']]\n",
        "covid_test  = test_df[['Corpus', 'label']]"
      ],
      "execution_count": null,
      "outputs": []
    },
    {
      "cell_type": "code",
      "metadata": {
        "id": "DsaucpuolFgW",
        "outputId": "4aadf679-8f72-4409-d470-b1b87dd549ae"
      },
      "source": [
        "# no missing data\n",
        "covid_train.isnull().sum(), covid_test.isnull().sum()"
      ],
      "execution_count": null,
      "outputs": [
        {
          "output_type": "execute_result",
          "data": {
            "text/plain": [
              "(Corpus    0\n",
              " label     0\n",
              " dtype: int64,\n",
              " Corpus    0\n",
              " label     0\n",
              " dtype: int64)"
            ]
          },
          "metadata": {
            "tags": []
          },
          "execution_count": 41
        }
      ]
    },
    {
      "cell_type": "markdown",
      "metadata": {
        "id": "2JXtJSB_lFgW"
      },
      "source": [
        "## Exporting preprocessed corpus of text as csv file for later analysis"
      ]
    },
    {
      "cell_type": "code",
      "metadata": {
        "id": "HmHzsIG-lFgW"
      },
      "source": [
        "# creating csv for training and testing cleaned files\n",
        "covid_train.to_csv(root+'data/train.csv', index=None)\n",
        "covid_test.to_csv(root+'data/test.csv', index=None)"
      ],
      "execution_count": null,
      "outputs": []
    }
  ]
}