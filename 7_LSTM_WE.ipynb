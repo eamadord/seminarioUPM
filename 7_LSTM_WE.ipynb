{
  "nbformat": 4,
  "nbformat_minor": 0,
  "metadata": {
    "language_info": {
      "codemirror_mode": {
        "name": "ipython",
        "version": 3
      },
      "file_extension": ".py",
      "mimetype": "text/x-python",
      "name": "python",
      "nbconvert_exporter": "python",
      "pygments_lexer": "ipython3",
      "version": "3.7.4"
    },
    "orig_nbformat": 2,
    "kernelspec": {
      "name": "python374jvsc74a57bd0dca0ade3e726a953b501b15e8e990130d2b7799f14cfd9f4271676035ebe5511",
      "display_name": "Python 3.7.4 64-bit ('base': conda)"
    },
    "metadata": {
      "interpreter": {
        "hash": "0b6db1c9eb42b02ddde262e91131b34b8bc0f19661aef4215bc059af74454cb9"
      }
    },
    "colab": {
      "name": "7-LSTM-WE.ipynb",
      "provenance": [],
      "collapsed_sections": [],
      "include_colab_link": true
    },
    "accelerator": "GPU"
  },
  "cells": [
    {
      "cell_type": "markdown",
      "metadata": {
        "id": "view-in-github",
        "colab_type": "text"
      },
      "source": [
        "<a href=\"https://colab.research.google.com/github/isegura/seminarioUPM/blob/main/7_LSTM_WE.ipynb\" target=\"_parent\"><img src=\"https://colab.research.google.com/assets/colab-badge.svg\" alt=\"Open In Colab\"/></a>"
      ]
    },
    {
      "cell_type": "markdown",
      "metadata": {
        "id": "nZTPXt1mQ3Ec"
      },
      "source": [
        "# Long Short Term Memory (LSTM)\n",
        "\n",
        "In this notebook, we will learn how to use a BiLSTM with pre-trained word embeddings to classify the sentiment of tweets about Covid-10. \n"
      ]
    },
    {
      "cell_type": "markdown",
      "metadata": {
        "id": "U9zakKFtQ3Ee"
      },
      "source": [
        "[Kaggle example](https://www.kaggle.com/anubhavsanyal/tensorflow-with-lstm-83-accuracy/notebook)"
      ]
    },
    {
      "cell_type": "code",
      "metadata": {
        "id": "DRaQ3ZvfQ3Ef"
      },
      "source": [
        "import numpy as np\n",
        "import pandas as pd\n",
        "import matplotlib.pyplot as plt\n",
        "import math\n",
        "import sklearn\n",
        "import seaborn as sns\n",
        "\n",
        "from sklearn.model_selection import train_test_split\n",
        "from sklearn.metrics import confusion_matrix, classification_report\n",
        "from sklearn import metrics"
      ],
      "execution_count": null,
      "outputs": []
    },
    {
      "cell_type": "markdown",
      "metadata": {
        "id": "S07zeNruRk74"
      },
      "source": [
        "## Loading data and vectorization"
      ]
    },
    {
      "cell_type": "code",
      "metadata": {
        "colab": {
          "base_uri": "https://localhost:8080/"
        },
        "id": "APkowpzwQ3Ef",
        "outputId": "4b61313d-c360-483d-f670-d651443001d1"
      },
      "source": [
        "from google.colab import drive\n",
        "drive.mount(\"/content/drive/\")\n",
        "root='drive/My Drive/Colab Notebooks/seminarioUPM/'\n",
        "\n",
        "# reading the already cleaned data\n",
        "train_data = pd.read_csv(root+'data/train.csv')\n",
        "test_data = pd.read_csv(root+'data/test.csv')\n",
        "# dropping indexes with nan\n",
        "\n",
        "# training set\n",
        "index_with_nan = train_data.index[train_data.isnull().any(axis=1)]\n",
        "train_data.drop(index_with_nan,0, inplace=True)\n",
        "\n",
        "# testing set\n",
        "index_with_nan = test_data.index[test_data.isnull().any(axis=1)]\n",
        "test_data.drop(index_with_nan,0, inplace=True)\n",
        "print(f'Training instances: {train_data.shape[0]}, and testing instances: {test_data.shape[0]}')\n",
        "\n",
        "#texts\n",
        "X_train = train_data.iloc[:,0]\n",
        "X_test = test_data.iloc[:,0]\n",
        "\n",
        "#labels\n",
        "y_train = train_data.iloc[:,1]\n",
        "y_test = test_data.iloc[:,1]\n",
        "\n",
        "train_text=X_train.to_numpy()\n",
        "test_text = X_test.to_numpy()\n",
        "\n",
        "#converts from a categorial data to a one-hot encoding vector \n",
        "y_train = pd.get_dummies(y_train)\n",
        "y_test = pd.get_dummies(y_test)\n",
        "\n",
        "train_labels = y_train.to_numpy() \n",
        "test_labels = y_test.to_numpy() \n",
        "\n",
        "import tensorflow as tf \n",
        "from tensorflow.keras.preprocessing.text import Tokenizer\n",
        "from tensorflow.keras.preprocessing.sequence import pad_sequences\n",
        "\n",
        "\n",
        "MAX_WORDS = 40000\n",
        "tokenizer = Tokenizer(num_words=MAX_WORDS, oov_token='OOV')\n",
        "tokenizer.fit_on_texts(train_text)\n",
        "word_index = tokenizer.word_index\n",
        "\n",
        "NUM_WORDS=min(len(word_index),MAX_WORDS)\n",
        "print(NUM_WORDS)\n",
        "\n",
        "MAX_SEQUENCE_LENGTH=30 #lenght of the input sequences\n",
        "\n",
        "train_text_sequeces = tokenizer.texts_to_sequences(train_text)\n",
        "train_text_padded = pad_sequences(train_text_sequeces, maxlen=MAX_SEQUENCE_LENGTH, padding = 'post', truncating='pre') \n",
        "\n",
        "test_text_sequeces = tokenizer.texts_to_sequences(test_text)\n",
        "test_text_padded = pad_sequences(tokenizer.texts_to_sequences(test_text), maxlen=MAX_SEQUENCE_LENGTH, padding = 'post', truncating='pre') \n"
      ],
      "execution_count": null,
      "outputs": [
        {
          "output_type": "stream",
          "text": [
            "Mounted at /content/drive/\n",
            "Training instances: 41087, and testing instances: 3795\n",
            "30841\n"
          ],
          "name": "stdout"
        }
      ]
    },
    {
      "cell_type": "markdown",
      "metadata": {
        "id": "fwtGdqpi--WW"
      },
      "source": [
        "### Loading the pre-trained word embedding model and creating the embedding matrix"
      ]
    },
    {
      "cell_type": "code",
      "metadata": {
        "id": "zzXOLHoZ_Az2",
        "colab": {
          "base_uri": "https://localhost:8080/"
        },
        "outputId": "523c8642-4a2b-4df2-c9ea-131500c02d7d"
      },
      "source": [
        "import gensim.downloader as api\n",
        "word_vectors = api.load(\"glove-wiki-gigaword-100\")  # load pre-trained word-vectors from gensim-data\n",
        "#word_vectors = api.load(\"glove-twitter-25\")\n",
        "\n",
        "#Other models:\n",
        "#glove-wiki-gigaword-50\n",
        "#fake-news\n",
        "\n",
        "print('glove-wiki-gigaword-100 loaded')\n"
      ],
      "execution_count": null,
      "outputs": [
        {
          "output_type": "stream",
          "text": [
            "[==================================================] 100.0% 128.1/128.1MB downloaded\n",
            "glove-wiki-gigaword-100 loaded\n"
          ],
          "name": "stdout"
        }
      ]
    },
    {
      "cell_type": "code",
      "metadata": {
        "colab": {
          "base_uri": "https://localhost:8080/"
        },
        "id": "H9OiS55M_1kJ",
        "outputId": "d7b3bb26-1cde-4dd1-e1f1-e4bd767443bd"
      },
      "source": [
        "EMBEDDING_DIM=100\n",
        "\n",
        "embedding_matrix = np.zeros((len(word_index) + 1, EMBEDDING_DIM))\n",
        "for word, i in word_index.items():\n",
        "    try:\n",
        "        embedding_vector = word_vectors[word]\n",
        "        embedding_matrix[i] = embedding_vector\n",
        "    except:\n",
        "        pass\n",
        "\n",
        "print(embedding_matrix.shape)"
      ],
      "execution_count": null,
      "outputs": [
        {
          "output_type": "stream",
          "text": [
            "(30842, 100)\n"
          ],
          "name": "stdout"
        }
      ]
    },
    {
      "cell_type": "markdown",
      "metadata": {
        "id": "hONNjaPiQ3En"
      },
      "source": [
        "### Defining the architecture: BiLSTM with pre-treind word embeddings\n"
      ]
    },
    {
      "cell_type": "code",
      "metadata": {
        "id": "YwacltZfQ3En",
        "colab": {
          "base_uri": "https://localhost:8080/"
        },
        "outputId": "05352ccc-d2b6-4b33-d230-fd6f93d66370"
      },
      "source": [
        "from keras.models import Sequential\n",
        "from keras.layers import Dense, LSTM, Embedding, GlobalAveragePooling1D, BatchNormalization, Dropout, Bidirectional\n",
        "from keras.losses import CategoricalCrossentropy\n",
        "from keras.optimizers import Adam, SGD\n",
        "from keras.callbacks import EarlyStopping, ModelCheckpoint\n",
        "\n",
        "model2 = Sequential()\n",
        "\n",
        "\n",
        "# embedding layer\n",
        "model2.add(Embedding(NUM_WORDS+1, EMBEDDING_DIM,  weights=[embedding_matrix],\n",
        "                     input_length=MAX_SEQUENCE_LENGTH))\n",
        "\n",
        "# LSTM layer\n",
        "model2.add(Bidirectional(LSTM(MAX_SEQUENCE_LENGTH)))\n",
        "# second hidden layer\n",
        "model2.add(Dense(MAX_SEQUENCE_LENGTH, activation='relu'))\n",
        "# dropout \n",
        "model2.add(Dropout(0.4))\n",
        "# third layer \n",
        "model2.add(Dense(10, activation = 'relu'))\n",
        "# dropout \n",
        "model2.add(Dropout(0.4))\n",
        "# fourth layer \n",
        "model2.add(Dense(10, activation = 'relu'))\n",
        "# output dense layer, with 5 categories, as many as our sentiments\n",
        "model2.add(Dense(5, activation='softmax'))\n",
        "\n",
        "model2.summary()"
      ],
      "execution_count": null,
      "outputs": [
        {
          "output_type": "stream",
          "text": [
            "Model: \"sequential\"\n",
            "_________________________________________________________________\n",
            "Layer (type)                 Output Shape              Param #   \n",
            "=================================================================\n",
            "embedding (Embedding)        (None, 30, 100)           3084200   \n",
            "_________________________________________________________________\n",
            "bidirectional (Bidirectional (None, 60)                31440     \n",
            "_________________________________________________________________\n",
            "dense (Dense)                (None, 30)                1830      \n",
            "_________________________________________________________________\n",
            "dropout (Dropout)            (None, 30)                0         \n",
            "_________________________________________________________________\n",
            "dense_1 (Dense)              (None, 10)                310       \n",
            "_________________________________________________________________\n",
            "dropout_1 (Dropout)          (None, 10)                0         \n",
            "_________________________________________________________________\n",
            "dense_2 (Dense)              (None, 10)                110       \n",
            "_________________________________________________________________\n",
            "dense_3 (Dense)              (None, 5)                 55        \n",
            "=================================================================\n",
            "Total params: 3,117,945\n",
            "Trainable params: 3,117,945\n",
            "Non-trainable params: 0\n",
            "_________________________________________________________________\n"
          ],
          "name": "stdout"
        }
      ]
    },
    {
      "cell_type": "code",
      "metadata": {
        "tags": [],
        "id": "84sC5x0cQ3En",
        "colab": {
          "base_uri": "https://localhost:8080/"
        },
        "outputId": "62427abe-0c83-4f82-fa5f-60d305beed39"
      },
      "source": [
        "# compiling the model and fitting it \n",
        "early_stop = EarlyStopping(monitor='val_loss', patience=3)\n",
        "\n",
        "model2.compile(loss=CategoricalCrossentropy(), optimizer=Adam(), metrics=['accuracy'])\n",
        "history_2 = model2.fit(train_text_padded, \n",
        "                       train_labels, \n",
        "                       epochs = 10, \n",
        "                       validation_split=0.2,\n",
        "                       callbacks=[early_stop])"
      ],
      "execution_count": null,
      "outputs": [
        {
          "output_type": "stream",
          "text": [
            "Epoch 1/10\n",
            "1028/1028 [==============================] - 60s 36ms/step - loss: 1.4932 - accuracy: 0.3195 - val_loss: 1.0885 - val_accuracy: 0.5944\n",
            "Epoch 2/10\n",
            "1028/1028 [==============================] - 34s 33ms/step - loss: 1.0663 - accuracy: 0.5655 - val_loss: 0.8125 - val_accuracy: 0.7028\n",
            "Epoch 3/10\n",
            "1028/1028 [==============================] - 34s 33ms/step - loss: 0.8167 - accuracy: 0.6864 - val_loss: 0.7725 - val_accuracy: 0.7021\n",
            "Epoch 4/10\n",
            "1028/1028 [==============================] - 34s 33ms/step - loss: 0.6971 - accuracy: 0.7452 - val_loss: 0.7381 - val_accuracy: 0.7376\n",
            "Epoch 5/10\n",
            "1028/1028 [==============================] - 35s 34ms/step - loss: 0.5767 - accuracy: 0.8180 - val_loss: 0.7604 - val_accuracy: 0.7344\n",
            "Epoch 6/10\n",
            "1028/1028 [==============================] - 34s 33ms/step - loss: 0.5101 - accuracy: 0.8465 - val_loss: 0.7745 - val_accuracy: 0.7355\n",
            "Epoch 7/10\n",
            "1028/1028 [==============================] - 34s 34ms/step - loss: 0.4541 - accuracy: 0.8680 - val_loss: 0.8027 - val_accuracy: 0.7450\n"
          ],
          "name": "stdout"
        }
      ]
    },
    {
      "cell_type": "code",
      "metadata": {
        "id": "FGIsnSheQ3Ej"
      },
      "source": [
        "#Function to plot learning curve\n",
        "def plot_acc(acc, val_acc):\n",
        "\n",
        "    fig, axs = plt.subplots(1)\n",
        "    axs.plot(acc)\n",
        "    axs.plot(val_acc)\n",
        "    axs.set_title('Training and Validation Accuracies')\n",
        "    axs.set_xlabel('Epoch')\n",
        "    axs.set_ylabel('Accuracy')\n",
        "    axs.legend(['Train', 'Val'])\n",
        "    fig.tight_layout()\n",
        "    plt.show()"
      ],
      "execution_count": null,
      "outputs": []
    },
    {
      "cell_type": "code",
      "metadata": {
        "id": "iUeiAJOTQ3Eo",
        "colab": {
          "base_uri": "https://localhost:8080/",
          "height": 297
        },
        "outputId": "4ce07b09-b38f-4692-b6dc-79e5c00b80bb"
      },
      "source": [
        "plot_acc(history_2.history['accuracy'], history_2.history['val_accuracy'])"
      ],
      "execution_count": null,
      "outputs": [
        {
          "output_type": "display_data",
          "data": {
            "image/png": "[encoded data removed]",
            "text/plain": [
              "<Figure size 432x288 with 1 Axes>"
            ]
          },
          "metadata": {
            "tags": [],
            "needs_background": "light"
          }
        }
      ]
    },
    {
      "cell_type": "markdown",
      "metadata": {
        "id": "gijQyGZEQ3Eo"
      },
      "source": [
        "## Evaluation on the test dataset"
      ]
    },
    {
      "cell_type": "code",
      "metadata": {
        "id": "55DIqorHQ3Eo"
      },
      "source": [
        "test_pred = model2.predict(test_text_padded)\n",
        "test_pred = test_pred.round().astype(int)"
      ],
      "execution_count": null,
      "outputs": []
    },
    {
      "cell_type": "code",
      "metadata": {
        "id": "a45SQWgxQ3Ep"
      },
      "source": [
        "# transforming the pred vectors to its label:\n",
        "test_pred_cat = np.zeros(test_pred.shape[0],)\n",
        "test_labels_cat = np.zeros(test_pred.shape[0],)\n",
        "\n",
        "for i in range(0,test_pred.shape[0],1):\n",
        "  test_pred_cat[i] = test_pred[i].argmax()\n",
        "  test_labels_cat[i] = test_labels[i].argmax()\n",
        "\n",
        "test_pred_cat = test_pred_cat.astype(int)\n",
        "test_labels_cat = test_labels_cat.astype(int)"
      ],
      "execution_count": null,
      "outputs": []
    },
    {
      "cell_type": "code",
      "metadata": {
        "id": "CRAyAmoqQ3Ep",
        "colab": {
          "base_uri": "https://localhost:8080/"
        },
        "outputId": "768f1fdd-ed39-4f78-f036-d5e361a9dbde"
      },
      "source": [
        "labels = {'Extremely Negative': 0,\n",
        "          'Extremely Positive': 1,\n",
        "          'Negative': 2,\n",
        "          'Neutral': 3,\n",
        "          'Positive': 4}\n",
        "print(classification_report(test_labels_cat, test_pred_cat, target_names= labels.keys()))"
      ],
      "execution_count": null,
      "outputs": [
        {
          "output_type": "stream",
          "text": [
            "                    precision    recall  f1-score   support\n",
            "\n",
            "Extremely Negative       0.68      0.60      0.64       592\n",
            "Extremely Positive       0.78      0.72      0.75       599\n",
            "          Negative       0.61      0.69      0.65      1041\n",
            "           Neutral       0.85      0.71      0.77       616\n",
            "          Positive       0.63      0.70      0.67       947\n",
            "\n",
            "          accuracy                           0.68      3795\n",
            "         macro avg       0.71      0.68      0.69      3795\n",
            "      weighted avg       0.69      0.68      0.69      3795\n",
            "\n"
          ],
          "name": "stdout"
        }
      ]
    },
    {
      "cell_type": "markdown",
      "metadata": {
        "id": "fDN0yasTcE0W"
      },
      "source": [
        "#Confusion matrix"
      ]
    },
    {
      "cell_type": "code",
      "metadata": {
        "id": "pksk4WhxQ3Ep",
        "colab": {
          "base_uri": "https://localhost:8080/",
          "height": 694
        },
        "outputId": "e76d92f6-d437-42f0-e0b8-589308b91f93"
      },
      "source": [
        "conf_mat = confusion_matrix(test_labels_cat, test_pred_cat)\n",
        "fig, ax = plt.subplots(figsize=(10,10))\n",
        "sns.heatmap(conf_mat, annot=True, fmt='d',\n",
        "            xticklabels=labels.keys(), yticklabels=labels.keys(),cmap=\"Blues\")\n",
        "plt.ylabel('Actual')\n",
        "plt.xlabel('Predicted')\n",
        "plt.show()"
      ],
      "execution_count": null,
      "outputs": [
        {
          "output_type": "display_data",
          "data": {
            "image/png": "[encoded data removed]",
            "text/plain": [
              "<Figure size 720x720 with 2 Axes>"
            ]
          },
          "metadata": {
            "tags": [],
            "needs_background": "light"
          }
        }
      ]
    }
  ]
}