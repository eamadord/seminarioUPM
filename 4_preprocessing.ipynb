{
  "nbformat": 4,
  "nbformat_minor": 0,
  "metadata": {
    "language_info": {
      "codemirror_mode": {
        "name": "ipython",
        "version": 3
      },
      "file_extension": ".py",
      "mimetype": "text/x-python",
      "name": "python",
      "nbconvert_exporter": "python",
      "pygments_lexer": "ipython3",
      "version": "3.8.10"
    },
    "orig_nbformat": 2,
    "kernelspec": {
      "name": "python3810jvsc74a57bd00b6db1c9eb42b02ddde262e91131b34b8bc0f19661aef4215bc059af74454cb9",
      "display_name": "Python 3.8.10 64-bit"
    },
    "metadata": {
      "interpreter": {
        "hash": "0b6db1c9eb42b02ddde262e91131b34b8bc0f19661aef4215bc059af74454cb9"
      }
    },
    "colab": {
      "name": "4-preprocessing.ipynb",
      "provenance": [],
      "collapsed_sections": [
        "2JXtJSB_lFgW"
      ],
      "include_colab_link": true
    },
    "accelerator": "GPU"
  },
  "cells": [
    {
      "cell_type": "markdown",
      "metadata": {
        "id": "view-in-github",
        "colab_type": "text"
      },
      "source": [
        "<a href=\"https://colab.research.google.com/github/isegura/seminarioUPM/blob/main/4_preprocessing.ipynb\" target=\"_parent\"><img src=\"https://colab.research.google.com/assets/colab-badge.svg\" alt=\"Open In Colab\"/></a>"
      ]
    },
    {
      "cell_type": "markdown",
      "metadata": {
        "id": "_GfRYYXzlFgI"
      },
      "source": [
        "# Sentiment Analysis for tweets about Covid-19\n",
        "\n",
        "This notebook shows the class distribution of the dataset for Sentiment Analysis about Covid-19 on tweets.\n",
        "It also shows how to clean the tweets.\n",
        "\n",
        "https://www.kaggle.com/datatattle/covid-19-nlp-text-classification\n"
      ]
    },
    {
      "cell_type": "markdown",
      "metadata": {
        "id": "cRXCseEAlFgM"
      },
      "source": [
        "## Reading the training data"
      ]
    },
    {
      "cell_type": "code",
      "metadata": {
        "id": "eDnK63cQ5aLi",
        "colab": {
          "base_uri": "https://localhost:8080/"
        },
        "outputId": "58bcabc8-86c6-4bf6-f9cb-1d805d318f16"
      },
      "source": [
        "# Load the Drive helper and mount\n",
        "from google.colab import drive\n",
        "drive.mount('/content/drive')\n",
        "root='drive/My Drive/Colab Notebooks/seminarioUPM/'\n"
      ],
      "execution_count": 1,
      "outputs": [
        {
          "output_type": "stream",
          "text": [
            "Go to this URL in a browser: https://accounts.google.com/o/oauth2/auth?client_id=947318989803-6bn6qk8qdgf4n4g3pfee6491hc0brc4i.apps.googleusercontent.com&redirect_uri=urn%3aietf%3awg%3aoauth%3a2.0%3aoob&scope=email%20https%3a%2f%2fwww.googleapis.com%2fauth%2fdocs.test%20https%3a%2f%2fwww.googleapis.com%2fauth%2fdrive%20https%3a%2f%2fwww.googleapis.com%2fauth%2fdrive.photos.readonly%20https%3a%2f%2fwww.googleapis.com%2fauth%2fpeopleapi.readonly%20https%3a%2f%2fwww.googleapis.com%2fauth%2fdrive.activity.readonly%20https%3a%2f%2fwww.googleapis.com%2fauth%2fexperimentsandconfigs%20https%3a%2f%2fwww.googleapis.com%2fauth%2fphotos.native&response_type=code\n",
            "\n",
            "Enter your authorization code:\n",
            "4/1AX4XfWgyhmqLCOmRjpwUSGtle0S-NJwPPCBaBnaSvlTOlIEDBfmY8KEIDb0\n",
            "Mounted at /content/drive\n"
          ],
          "name": "stdout"
        }
      ]
    },
    {
      "cell_type": "code",
      "metadata": {
        "id": "PCoP_7zTlFgM",
        "colab": {
          "base_uri": "https://localhost:8080/",
          "height": 239
        },
        "outputId": "c9c91123-d21b-41ee-8d68-e07ac06b7384"
      },
      "source": [
        "import pandas as pd\n",
        "\n",
        "data_train = pd.read_csv(root+'data/Corona_NLP_train.csv', encoding=\"latin1\")\n",
        "print(f'Number of instances: {data_train.shape[0]}')\n",
        "print(f'Name of columns: {data_train.columns.values}')\n",
        "data_train.head()"
      ],
      "execution_count": 85,
      "outputs": [
        {
          "output_type": "stream",
          "text": [
            "Number of instances: 41157\n",
            "Name of columns: ['UserName' 'ScreenName' 'Location' 'TweetAt' 'OriginalTweet' 'Sentiment']\n"
          ],
          "name": "stdout"
        },
        {
          "output_type": "execute_result",
          "data": {
            "text/html": [
              "<div>\n",
              "<style scoped>\n",
              "    .dataframe tbody tr th:only-of-type {\n",
              "        vertical-align: middle;\n",
              "    }\n",
              "\n",
              "    .dataframe tbody tr th {\n",
              "        vertical-align: top;\n",
              "    }\n",
              "\n",
              "    .dataframe thead th {\n",
              "        text-align: right;\n",
              "    }\n",
              "</style>\n",
              "<table border=\"1\" class=\"dataframe\">\n",
              "  <thead>\n",
              "    <tr style=\"text-align: right;\">\n",
              "      <th></th>\n",
              "      <th>UserName</th>\n",
              "      <th>ScreenName</th>\n",
              "      <th>Location</th>\n",
              "      <th>TweetAt</th>\n",
              "      <th>OriginalTweet</th>\n",
              "      <th>Sentiment</th>\n",
              "    </tr>\n",
              "  </thead>\n",
              "  <tbody>\n",
              "    <tr>\n",
              "      <th>0</th>\n",
              "      <td>3799</td>\n",
              "      <td>48751</td>\n",
              "      <td>London</td>\n",
              "      <td>16-03-2020</td>\n",
              "      <td>@MeNyrbie @Phil_Gahan @Chrisitv https://t.co/i...</td>\n",
              "      <td>Neutral</td>\n",
              "    </tr>\n",
              "    <tr>\n",
              "      <th>1</th>\n",
              "      <td>3800</td>\n",
              "      <td>48752</td>\n",
              "      <td>UK</td>\n",
              "      <td>16-03-2020</td>\n",
              "      <td>advice Talk to your neighbours family to excha...</td>\n",
              "      <td>Positive</td>\n",
              "    </tr>\n",
              "    <tr>\n",
              "      <th>2</th>\n",
              "      <td>3801</td>\n",
              "      <td>48753</td>\n",
              "      <td>Vagabonds</td>\n",
              "      <td>16-03-2020</td>\n",
              "      <td>Coronavirus Australia: Woolworths to give elde...</td>\n",
              "      <td>Positive</td>\n",
              "    </tr>\n",
              "    <tr>\n",
              "      <th>3</th>\n",
              "      <td>3802</td>\n",
              "      <td>48754</td>\n",
              "      <td>NaN</td>\n",
              "      <td>16-03-2020</td>\n",
              "      <td>My food stock is not the only one which is emp...</td>\n",
              "      <td>Positive</td>\n",
              "    </tr>\n",
              "    <tr>\n",
              "      <th>4</th>\n",
              "      <td>3803</td>\n",
              "      <td>48755</td>\n",
              "      <td>NaN</td>\n",
              "      <td>16-03-2020</td>\n",
              "      <td>Me, ready to go at supermarket during the #COV...</td>\n",
              "      <td>Extremely Negative</td>\n",
              "    </tr>\n",
              "  </tbody>\n",
              "</table>\n",
              "</div>"
            ],
            "text/plain": [
              "   UserName  ...           Sentiment\n",
              "0      3799  ...             Neutral\n",
              "1      3800  ...            Positive\n",
              "2      3801  ...            Positive\n",
              "3      3802  ...            Positive\n",
              "4      3803  ...  Extremely Negative\n",
              "\n",
              "[5 rows x 6 columns]"
            ]
          },
          "metadata": {
            "tags": []
          },
          "execution_count": 85
        }
      ]
    },
    {
      "cell_type": "markdown",
      "metadata": {
        "id": "6n9lR-iAEV23"
      },
      "source": [
        "We only keep the fields: OriginalTweet and Sentiment."
      ]
    },
    {
      "cell_type": "code",
      "metadata": {
        "id": "h9ATg8bNlFgM",
        "colab": {
          "base_uri": "https://localhost:8080/",
          "height": 205
        },
        "outputId": "04a02821-7acc-4d23-a91f-724e0e094816"
      },
      "source": [
        "train = data_train.iloc[:,4:6]\n",
        "train.head(5)"
      ],
      "execution_count": 86,
      "outputs": [
        {
          "output_type": "execute_result",
          "data": {
            "text/html": [
              "<div>\n",
              "<style scoped>\n",
              "    .dataframe tbody tr th:only-of-type {\n",
              "        vertical-align: middle;\n",
              "    }\n",
              "\n",
              "    .dataframe tbody tr th {\n",
              "        vertical-align: top;\n",
              "    }\n",
              "\n",
              "    .dataframe thead th {\n",
              "        text-align: right;\n",
              "    }\n",
              "</style>\n",
              "<table border=\"1\" class=\"dataframe\">\n",
              "  <thead>\n",
              "    <tr style=\"text-align: right;\">\n",
              "      <th></th>\n",
              "      <th>OriginalTweet</th>\n",
              "      <th>Sentiment</th>\n",
              "    </tr>\n",
              "  </thead>\n",
              "  <tbody>\n",
              "    <tr>\n",
              "      <th>0</th>\n",
              "      <td>@MeNyrbie @Phil_Gahan @Chrisitv https://t.co/i...</td>\n",
              "      <td>Neutral</td>\n",
              "    </tr>\n",
              "    <tr>\n",
              "      <th>1</th>\n",
              "      <td>advice Talk to your neighbours family to excha...</td>\n",
              "      <td>Positive</td>\n",
              "    </tr>\n",
              "    <tr>\n",
              "      <th>2</th>\n",
              "      <td>Coronavirus Australia: Woolworths to give elde...</td>\n",
              "      <td>Positive</td>\n",
              "    </tr>\n",
              "    <tr>\n",
              "      <th>3</th>\n",
              "      <td>My food stock is not the only one which is emp...</td>\n",
              "      <td>Positive</td>\n",
              "    </tr>\n",
              "    <tr>\n",
              "      <th>4</th>\n",
              "      <td>Me, ready to go at supermarket during the #COV...</td>\n",
              "      <td>Extremely Negative</td>\n",
              "    </tr>\n",
              "  </tbody>\n",
              "</table>\n",
              "</div>"
            ],
            "text/plain": [
              "                                       OriginalTweet           Sentiment\n",
              "0  @MeNyrbie @Phil_Gahan @Chrisitv https://t.co/i...             Neutral\n",
              "1  advice Talk to your neighbours family to excha...            Positive\n",
              "2  Coronavirus Australia: Woolworths to give elde...            Positive\n",
              "3  My food stock is not the only one which is emp...            Positive\n",
              "4  Me, ready to go at supermarket during the #COV...  Extremely Negative"
            ]
          },
          "metadata": {
            "tags": []
          },
          "execution_count": 86
        }
      ]
    },
    {
      "cell_type": "code",
      "metadata": {
        "colab": {
          "base_uri": "https://localhost:8080/",
          "height": 128
        },
        "id": "cdFW-KFaED4t",
        "outputId": "2cc1a2bb-d997-4af1-baaf-9f81cc006949"
      },
      "source": [
        "data_test = pd.read_csv(root+'data/Corona_NLP_test.csv', encoding=\"latin1\")\n",
        "print(f'Number of examples in test dataset: {data_test.shape[0]}')\n",
        "\n",
        "test = data_test.iloc[:,4:6]\n",
        "test.head(2)\n"
      ],
      "execution_count": 87,
      "outputs": [
        {
          "output_type": "stream",
          "text": [
            "Number of examples in test dataset: 3798\n"
          ],
          "name": "stdout"
        },
        {
          "output_type": "execute_result",
          "data": {
            "text/html": [
              "<div>\n",
              "<style scoped>\n",
              "    .dataframe tbody tr th:only-of-type {\n",
              "        vertical-align: middle;\n",
              "    }\n",
              "\n",
              "    .dataframe tbody tr th {\n",
              "        vertical-align: top;\n",
              "    }\n",
              "\n",
              "    .dataframe thead th {\n",
              "        text-align: right;\n",
              "    }\n",
              "</style>\n",
              "<table border=\"1\" class=\"dataframe\">\n",
              "  <thead>\n",
              "    <tr style=\"text-align: right;\">\n",
              "      <th></th>\n",
              "      <th>OriginalTweet</th>\n",
              "      <th>Sentiment</th>\n",
              "    </tr>\n",
              "  </thead>\n",
              "  <tbody>\n",
              "    <tr>\n",
              "      <th>0</th>\n",
              "      <td>TRENDING: New Yorkers encounter empty supermar...</td>\n",
              "      <td>Extremely Negative</td>\n",
              "    </tr>\n",
              "    <tr>\n",
              "      <th>1</th>\n",
              "      <td>When I couldn't find hand sanitizer at Fred Me...</td>\n",
              "      <td>Positive</td>\n",
              "    </tr>\n",
              "  </tbody>\n",
              "</table>\n",
              "</div>"
            ],
            "text/plain": [
              "                                       OriginalTweet           Sentiment\n",
              "0  TRENDING: New Yorkers encounter empty supermar...  Extremely Negative\n",
              "1  When I couldn't find hand sanitizer at Fred Me...            Positive"
            ]
          },
          "metadata": {
            "tags": []
          },
          "execution_count": 87
        }
      ]
    },
    {
      "cell_type": "markdown",
      "metadata": {
        "id": "o7GvQ8QfDPkk"
      },
      "source": [
        "## Class distribution"
      ]
    },
    {
      "cell_type": "code",
      "metadata": {
        "id": "YnQL6QoXlFgN",
        "colab": {
          "base_uri": "https://localhost:8080/",
          "height": 281
        },
        "outputId": "1a4c4513-3e5e-40f7-c209-9b3a860097c3"
      },
      "source": [
        "# groping them by sentiment\n",
        "%matplotlib inline\n",
        "from matplotlib import pyplot as plt\n",
        "%config InlineBackend.figure_format = 'retina'\n",
        "\n",
        "\n",
        "sentiment_class = data_train['OriginalTweet'].groupby(data_train.Sentiment).count()\n",
        "ax = sentiment_class.plot(kind='pie',autopct='%1.1f%%')\n",
        "ax.set_title('Class Distribution on training dataset')"
      ],
      "execution_count": 92,
      "outputs": [
        {
          "output_type": "execute_result",
          "data": {
            "text/plain": [
              "Text(0.5, 1.0, 'Class Distribution on training dataset')"
            ]
          },
          "metadata": {
            "tags": []
          },
          "execution_count": 92
        },
        {
          "output_type": "display_data",
          "data": {
            "image/png": "[encoded data removed]",
            "text/plain": [
              "<Figure size 432x288 with 1 Axes>"
            ]
          },
          "metadata": {
            "tags": [],
            "image/png": {
              "width": 328,
              "height": 247
            }
          }
        }
      ]
    },
    {
      "cell_type": "code",
      "metadata": {
        "id": "Y94W_KgM5yuq",
        "colab": {
          "base_uri": "https://localhost:8080/",
          "height": 401
        },
        "outputId": "a8b622fd-eb8b-481c-a3bd-b4880166ca24"
      },
      "source": [
        "ax = sentiment_class_per.plot(kind='bar')\n",
        "ax.set_title('Class Distribution on training dataset')"
      ],
      "execution_count": 31,
      "outputs": [
        {
          "output_type": "execute_result",
          "data": {
            "text/plain": [
              "Text(0.5, 1.0, 'Class Distribution on training dataset')"
            ]
          },
          "metadata": {
            "tags": []
          },
          "execution_count": 31
        },
        {
          "output_type": "display_data",
          "data": {
            "image/png": "[encoded data removed]",
            "text/plain": [
              "<Figure size 432x288 with 1 Axes>"
            ]
          },
          "metadata": {
            "tags": [],
            "needs_background": "light"
          }
        }
      ]
    },
    {
      "cell_type": "code",
      "metadata": {
        "colab": {
          "base_uri": "https://localhost:8080/",
          "height": 319
        },
        "id": "BA979T4XIs4v",
        "outputId": "42a06b9c-419f-4c6a-f75f-b11c6501bf08"
      },
      "source": [
        "\n",
        "data1 = data_train['OriginalTweet'].groupby(data_train.Sentiment).count()\n",
        "data2 = data_test['OriginalTweet'].groupby(data_test.Sentiment).count()\n",
        "\n",
        "# create a figure with two subplots\n",
        "fig, (ax1, ax2) = plt.subplots(1, 2)\n",
        "fig.set_figwidth(13)\n",
        "fig.set_figheight(5)\n",
        "\n",
        "# plot each pie chart in a separate subplot\n",
        "ax1.pie(data1,autopct='%1.1f%%')\n",
        "ax2.pie(data2,autopct='%1.1f%%')\n",
        "ax1.title.set_text('Class distribution on training dataset')\n",
        "ax2.title.set_text('Class distribution on test dataset')\n",
        "#plt.subplots_adjust(wspace=0.5)\n",
        "\n",
        "plt.show()"
      ],
      "execution_count": 88,
      "outputs": [
        {
          "output_type": "display_data",
          "data": {
            "image/png": "[encoded data removed]",
            "text/plain": [
              "<Figure size 936x360 with 2 Axes>"
            ]
          },
          "metadata": {
            "tags": []
          }
        }
      ]
    },
    {
      "cell_type": "markdown",
      "metadata": {
        "id": "c_iWtkEA55aL"
      },
      "source": [
        "Some examples:"
      ]
    },
    {
      "cell_type": "code",
      "metadata": {
        "id": "d3-mBRBl56zp",
        "colab": {
          "base_uri": "https://localhost:8080/"
        },
        "outputId": "86b88f40-a806-4b49-d3a4-1e324e806acd"
      },
      "source": [
        "# example of one tweet along with its sentiment:\n",
        "train.iloc[5,:].values\n",
        "\n",
        "\n",
        "#extremely positive: tweet que anima a cuidar de todos\n",
        "print(train.iloc[12,:][1],':', train.iloc[12,:][0])\n",
        "print()\n",
        "\n",
        "#positive: consejo para crear listas de contactos\n",
        "print(train.iloc[1,:][1],':', train.iloc[1,:][0])\n",
        "print()\n",
        "\n",
        "#positive: acudio en masa a comprar, positivo???\n",
        "print(train.iloc[5,:][1],':', train.iloc[5,:][0])\n",
        "print()\n",
        "\n",
        "#neutral\n",
        "print(train.iloc[7,:][1],':', train.iloc[7,:][0])\n",
        "print()\n",
        "\n",
        "\n",
        "# extr. negative: china culpable\n",
        "print(train.iloc[20,:][1],':', train.iloc[20,:][0])\n",
        "print()\n",
        "\n",
        "\n",
        "\n",
        "#negative: pagar con tarjetas de crédito, a mi me parece neutro\n",
        "print(train.iloc[9,:][1],':', train.iloc[9,:][0])\n",
        "print()\n",
        "\n",
        "#  negative: crítica al gobierno británico para asegurar los productos esenciales y controlar a la gente\n",
        "# y que no recaiga en el personal de los supermercados\n",
        "print(train.iloc[24,:][1],':', train.iloc[24,:][0])\n",
        "print()"
      ],
      "execution_count": 82,
      "outputs": [
        {
          "output_type": "stream",
          "text": [
            "Extremely Positive : #horningsea is a caring community. LetÂs ALL look after the less capable in our village and ensure they stay healthy. Bringing shopping to their doors, help with online shopping and self isolation if you have symptoms or been exposed to somebody who has. https://t.co/lsGrXXhjhh\n",
            "\n",
            "Positive : advice Talk to your neighbours family to exchange phone numbers create contact list with phone numbers of neighbours schools employer chemist GP set up online shopping accounts if poss adequate supplies of regular meds but not over order\n",
            "\n",
            "Positive : As news of the regionÂs first confirmed COVID-19 case came out of Sullivan County last week, people flocked to area stores to purchase cleaning supplies, hand sanitizer, food, toilet paper and other goods, @Tim_Dodson reports https://t.co/cfXch7a2lU\n",
            "\n",
            "Neutral : Was at the supermarket today. Didn't buy toilet paper. #Rebel\r\r\n",
            "\r\r\n",
            "#toiletpapercrisis #covid_19 https://t.co/eVXkQLIdAZ\n",
            "\n",
            "Extremely Negative : with 100  nations inficted with  covid  19  the world must  not  play fair with china  100 goverments must demand  china  adopts new guilde  lines on food safty  the  chinese  goverment  is guilty of  being  irosponcible   with life  on a global scale\n",
            "\n",
            "Negative : For corona prevention,we should stop to buy things with the cash and should use online payment methods because corona can spread through the notes. Also we should prefer online shopping from our home. It's time to fight against COVID 19?. #govindia #IndiaFightsCorona\n",
            "\n",
            "Negative : @10DowningStreet @grantshapps what is being done to ensure food and other essential products are being re-stocked at supermarkets and panic buying actively discouraged? It cannot be left to checkout staff to police the actions of the selfish and profiteer\n",
            "\n"
          ],
          "name": "stdout"
        }
      ]
    },
    {
      "cell_type": "markdown",
      "metadata": {
        "id": "VTN98J0klFgR"
      },
      "source": [
        "## Encoding the sentiment classes\n",
        "\n",
        "We will use encoding for the sentiment classes, so that the analysis gets easier when applying the models."
      ]
    },
    {
      "cell_type": "code",
      "metadata": {
        "id": "TrX_jGIYlFgR"
      },
      "source": [
        "from sklearn.preprocessing import LabelEncoder\n",
        "\n",
        "le = LabelEncoder()\n",
        "train['Sentiment'] = le.fit_transform(train['Sentiment'])\n",
        "#train.head(2)\n",
        "test['Sentiment'] = le.fit_transform(test['Sentiment'])\n",
        "#test.head(2)\n",
        "\n",
        "# transform train and test variables to numpy arrays:\n",
        "train = train.to_numpy()\n",
        "test = test.to_numpy()\n",
        "# now we have both variables as numpy arrays\n",
        "#print(type(test), type(train))"
      ],
      "execution_count": 90,
      "outputs": []
    },
    {
      "cell_type": "code",
      "metadata": {
        "id": "YLfh8TTnlFgS",
        "colab": {
          "base_uri": "https://localhost:8080/"
        },
        "outputId": "0a8bc66b-14d0-4576-dd7d-7c89e72c107d"
      },
      "source": [
        "print(le.inverse_transform([0,1,2,3,4]))"
      ],
      "execution_count": 91,
      "outputs": [
        {
          "output_type": "stream",
          "text": [
            "['Extremely Negative' 'Extremely Positive' 'Negative' 'Neutral' 'Positive']\n"
          ],
          "name": "stdout"
        }
      ]
    },
    {
      "cell_type": "code",
      "metadata": {
        "id": "A_mFhZ5elFgL",
        "colab": {
          "base_uri": "https://localhost:8080/"
        },
        "outputId": "5357a352-78a4-4f85-fc77-7a57966fc2ce"
      },
      "source": [
        "# natural language toolkit\n",
        "\n",
        "from nltk.stem import PorterStemmer\n",
        "\n",
        "import re\n",
        "import string\n",
        "import random\n",
        "\n",
        "\n",
        "from gensim.parsing.preprocessing import remove_stopwords"
      ],
      "execution_count": 93,
      "outputs": [
        {
          "output_type": "stream",
          "text": [
            "[nltk_data] Downloading package stopwords to /root/nltk_data...\n",
            "[nltk_data]   Package stopwords is already up-to-date!\n",
            "{'your', 'are', 'any', 'to', 'she', 'has', 'there', 'with', 'be', \"doesn't\", 'no', 'was', 'needn', 'couldn', 'than', 'herself', \"hasn't\", \"it's\", 'own', 'were', 'that', 'not', 'll', 'having', 'hasn', 'wasn', 'why', 'during', 'nor', 'after', 'her', 'i', 'am', 'wouldn', 'we', \"you'll\", 'a', 'into', 'most', 'the', 'above', 'in', 'm', 'how', 'here', \"aren't\", 'below', \"weren't\", 'my', \"she's\", 'them', 'which', 'by', 'been', 'or', 'just', 'ain', 'up', 'against', 'do', 'again', 'd', 'such', 'where', 'will', 'have', 'did', 'isn', 'ma', 'for', 'mightn', 'those', \"you'd\", \"that'll\", 'shouldn', \"wouldn't\", 'under', 'now', 'an', 'as', \"shouldn't\", 've', 'more', 'between', 'o', 'from', \"wasn't\", 'if', 'our', 'can', \"couldn't\", 'and', 'same', 'being', 'ourselves', 'he', 'very', \"should've\", \"you're\", 'only', 'they', \"needn't\", 't', 'don', \"mustn't\", 'these', 'theirs', 'about', 'whom', \"shan't\", 'didn', 'aren', 'through', 'on', \"you've\", \"don't\", 'off', 'all', \"isn't\", 'won', 'ours', 'until', 'because', 'then', 'themselves', 'once', 'shan', 'it', 'when', 'haven', 'each', 'should', 'yours', 'does', 'doing', 'some', 'down', \"hadn't\", 'y', 'too', \"didn't\", 'out', 'at', 'few', 'but', 'yourself', 'what', 'before', 'had', 'himself', 'who', 're', 'you', 'myself', 'other', 'so', 'itself', 'of', 'him', \"haven't\", 'yourselves', 'weren', 'mustn', 'is', 'both', 's', 'over', 'this', 'further', 'its', 'while', 'hers', 'doesn', \"won't\", 'their', \"mightn't\", 'hadn', 'his', 'me'}\n"
          ],
          "name": "stdout"
        }
      ]
    },
    {
      "cell_type": "markdown",
      "metadata": {
        "id": "xgkvNTmKlFgS"
      },
      "source": [
        "## Cleaning the data from hashtags and twitter symbols\n",
        "\n",
        "Removing all these symbols will facilitate our analysis and make the models understand the words better."
      ]
    },
    {
      "cell_type": "code",
      "metadata": {
        "id": "sLtH8xnIlFgT"
      },
      "source": [
        "# for the training texts\n",
        "def clean_texts(df):\n",
        "\n",
        "    for i in range(len(df)):\n",
        "        text = df[i,0]\n",
        "        text = re.sub(\"@\\S+\", \" \", text)      # getting rid of mentions @\n",
        "        text = re.sub(\"https*\\S+\", \" \", text) # getting rid of links, that can be present everywhere\n",
        "        text = re.sub(\"#\\S+\", \" \", text)      # getting rid of hashtags\n",
        "        text = re.sub(\"\\'\\w+\", '', text)      # getting rid of spaces\n",
        "        text = re.sub('[%s]' % re.escape(string.punctuation), ' ', text) # changing punctuation\n",
        "        text = re.sub(r'\\w*\\d+\\w*', '', text) # remove prefixes\n",
        "        text = re.sub('\\s{2,}', \" \", text)    # replaces two or more spaces by only one\n",
        "        text = text.lower()                   # set all text to lower letters\n",
        "        text = re.sub('gt gt gt', \"\", text)   # removes this series of words that are for no use\n",
        "        text = re.sub(\"^\\d+\\s|\\s\\d+\\s|\\s\\d+$\", \" \", text)\n",
        "        df[i,0]=text         # store the new variable \n",
        "    \n"
      ],
      "execution_count": 94,
      "outputs": []
    },
    {
      "cell_type": "code",
      "metadata": {
        "id": "-4Wo_QgylFgT"
      },
      "source": [
        "clean_texts(train)\n",
        "clean_texts(test)"
      ],
      "execution_count": 95,
      "outputs": []
    },
    {
      "cell_type": "markdown",
      "metadata": {
        "id": "7EZv-lHplFgT"
      },
      "source": [
        "Now we will see if the texts look the way we would expect:"
      ]
    },
    {
      "cell_type": "code",
      "metadata": {
        "id": "ZYxebrg9lFgT",
        "colab": {
          "base_uri": "https://localhost:8080/"
        },
        "outputId": "ccc7b7a5-ff97-4cbd-9a3f-6554aa22a549"
      },
      "source": [
        "# training\n",
        "for i in range(3):\n",
        "    tweet = train[random.randint(0,len(train)-1),0]\n",
        "    print('-------')\n",
        "    print(tweet)"
      ],
      "execution_count": 96,
      "outputs": [
        {
          "output_type": "stream",
          "text": [
            "-------\n",
            " watch the share prices for companies that provide funeral services and linked industries go up might want to note if any one in congress buys them \n",
            "-------\n",
            "if someone told me two months ago that a mask is suggested for trips out in public i would have thought they were crazy a trip to the grocery store with a mask on a sunday \n",
            "-------\n",
            "as communities look to their grocery store for food and supplies during the coronavirus emergency two supermarket chains are reacting by hiring more workers \n"
          ],
          "name": "stdout"
        }
      ]
    },
    {
      "cell_type": "markdown",
      "metadata": {
        "id": "e5JW63TYlFgV"
      },
      "source": [
        "## Normalization and removing "
      ]
    },
    {
      "cell_type": "code",
      "metadata": {
        "id": "PAntSADGlFgV",
        "colab": {
          "base_uri": "https://localhost:8080/"
        },
        "outputId": "ac4bdaee-4759-49a4-99f8-b84f6700e8bd"
      },
      "source": [
        "# get all stopwords\n",
        "import nltk\n",
        "nltk.download('stopwords')\n",
        "nltk.download('punkt')\n",
        "nltk.download('wordnet')\n",
        "\n",
        "from nltk.corpus import stopwords\n",
        "stop_words = set(stopwords.words('english'))\n",
        "print(stop_words)\n",
        "\n",
        "from nltk.tokenize import word_tokenize \n",
        "lemmatizer = nltk.WordNetLemmatizer()\n",
        "\n",
        "def remove_stopwords(df):\n",
        "    for i in range(len(df)):\n",
        "        text = df[i,0]\n",
        "        text_tokens = word_tokenize(text)\n",
        "        tokens = [lemmatizer.lemmatize(word) for word in text_tokens if not word in stopwords.words()]\n",
        "        df[i,0]=' '.join(tokens)\n",
        "        \n",
        "remove_stopwords(train)\n",
        "remove_stopwords(test)\n"
      ],
      "execution_count": null,
      "outputs": [
        {
          "output_type": "stream",
          "text": [
            "[nltk_data] Downloading package wordnet to /root/nltk_data...\n",
            "[nltk_data]   Unzipping corpora/wordnet.zip.\n",
            "{'your', 'are', 'any', 'to', 'she', 'has', 'there', 'with', 'be', \"doesn't\", 'no', 'was', 'needn', 'couldn', 'than', 'herself', \"hasn't\", \"it's\", 'own', 'were', 'that', 'not', 'll', 'having', 'hasn', 'wasn', 'why', 'during', 'nor', 'after', 'her', 'i', 'am', 'wouldn', 'we', \"you'll\", 'a', 'into', 'most', 'the', 'above', 'in', 'm', 'how', 'here', \"aren't\", 'below', \"weren't\", 'my', \"she's\", 'them', 'which', 'by', 'been', 'or', 'just', 'ain', 'up', 'against', 'do', 'again', 'd', 'such', 'where', 'will', 'have', 'did', 'isn', 'ma', 'for', 'mightn', 'those', \"you'd\", \"that'll\", 'shouldn', \"wouldn't\", 'under', 'now', 'an', 'as', \"shouldn't\", 've', 'more', 'between', 'o', 'from', \"wasn't\", 'if', 'our', 'can', \"couldn't\", 'and', 'same', 'being', 'ourselves', 'he', 'very', \"should've\", \"you're\", 'only', 'they', \"needn't\", 't', 'don', \"mustn't\", 'these', 'theirs', 'about', 'whom', \"shan't\", 'didn', 'aren', 'through', 'on', \"you've\", \"don't\", 'off', 'all', \"isn't\", 'won', 'ours', 'until', 'because', 'then', 'themselves', 'once', 'shan', 'it', 'when', 'haven', 'each', 'should', 'yours', 'does', 'doing', 'some', 'down', \"hadn't\", 'y', 'too', \"didn't\", 'out', 'at', 'few', 'but', 'yourself', 'what', 'before', 'had', 'himself', 'who', 're', 'you', 'myself', 'other', 'so', 'itself', 'of', 'him', \"haven't\", 'yourselves', 'weren', 'mustn', 'is', 'both', 's', 'over', 'this', 'further', 'its', 'while', 'hers', 'doesn', \"won't\", 'their', \"mightn't\", 'hadn', 'his', 'me'}\n"
          ],
          "name": "stdout"
        }
      ]
    },
    {
      "cell_type": "code",
      "metadata": {
        "id": "vzLL8c91lFgV"
      },
      "source": [
        "# converting to pandas dataframe\n",
        "train = pd.DataFrame(train)\n",
        "test = pd.DataFrame(test)\n",
        "\n",
        "train.columns = ['tweet', 'label']\n",
        "test.columns = ['tweet', 'label']"
      ],
      "execution_count": null,
      "outputs": []
    },
    {
      "cell_type": "code",
      "metadata": {
        "id": "zS4rNlaglFgV",
        "outputId": "bbdba4f0-6703-4a40-92b8-170b21cad2d1"
      },
      "source": [
        "test.head()"
      ],
      "execution_count": null,
      "outputs": [
        {
          "output_type": "execute_result",
          "data": {
            "text/plain": [
              "                                               tweet label\n",
              "0  trending new yorkers encounter supermarket she...     0\n",
              "1  couldn hand sanitizer fred meyer turned pack p...     4\n",
              "2                                 protect loved ones     1\n",
              "3  buying hits city anxious shoppers stock food a...     2\n",
              "4   week buying baby milk powder buying toilet paper     3"
            ],
            "text/html": [
              "<div>\n",
              "<style scoped>\n",
              "    .dataframe tbody tr th:only-of-type {\n",
              "        vertical-align: middle;\n",
              "    }\n",
              "\n",
              "    .dataframe tbody tr th {\n",
              "        vertical-align: top;\n",
              "    }\n",
              "\n",
              "    .dataframe thead th {\n",
              "        text-align: right;\n",
              "    }\n",
              "</style>\n",
              "<table border=\"1\" class=\"dataframe\">\n",
              "  <thead>\n",
              "    <tr style=\"text-align: right;\">\n",
              "      <th></th>\n",
              "      <th>tweet</th>\n",
              "      <th>label</th>\n",
              "    </tr>\n",
              "  </thead>\n",
              "  <tbody>\n",
              "    <tr>\n",
              "      <th>0</th>\n",
              "      <td>trending new yorkers encounter supermarket she...</td>\n",
              "      <td>0</td>\n",
              "    </tr>\n",
              "    <tr>\n",
              "      <th>1</th>\n",
              "      <td>couldn hand sanitizer fred meyer turned pack p...</td>\n",
              "      <td>4</td>\n",
              "    </tr>\n",
              "    <tr>\n",
              "      <th>2</th>\n",
              "      <td>protect loved ones</td>\n",
              "      <td>1</td>\n",
              "    </tr>\n",
              "    <tr>\n",
              "      <th>3</th>\n",
              "      <td>buying hits city anxious shoppers stock food a...</td>\n",
              "      <td>2</td>\n",
              "    </tr>\n",
              "    <tr>\n",
              "      <th>4</th>\n",
              "      <td>week buying baby milk powder buying toilet paper</td>\n",
              "      <td>3</td>\n",
              "    </tr>\n",
              "  </tbody>\n",
              "</table>\n",
              "</div>"
            ]
          },
          "metadata": {
            "tags": []
          },
          "execution_count": 36
        }
      ]
    },
    {
      "cell_type": "code",
      "metadata": {
        "id": "DsaucpuolFgW",
        "outputId": "4aadf679-8f72-4409-d470-b1b87dd549ae"
      },
      "source": [
        "# no missing data\n",
        "train.isnull().sum(), test.isnull().sum()"
      ],
      "execution_count": null,
      "outputs": [
        {
          "output_type": "execute_result",
          "data": {
            "text/plain": [
              "(Corpus    0\n",
              " label     0\n",
              " dtype: int64,\n",
              " Corpus    0\n",
              " label     0\n",
              " dtype: int64)"
            ]
          },
          "metadata": {
            "tags": []
          },
          "execution_count": 41
        }
      ]
    },
    {
      "cell_type": "markdown",
      "metadata": {
        "id": "2JXtJSB_lFgW"
      },
      "source": [
        "## Saving the cleaned texts into  csv files"
      ]
    },
    {
      "cell_type": "code",
      "metadata": {
        "id": "HmHzsIG-lFgW"
      },
      "source": [
        "# creating csv for training and testing cleaned files\n",
        "train.to_csv(root+'data/train.csv', index=None)\n",
        "test.to_csv(root+'data/test.csv', index=None)"
      ],
      "execution_count": null,
      "outputs": []
    }
  ]
}