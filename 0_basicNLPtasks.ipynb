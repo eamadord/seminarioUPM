{
  "nbformat": 4,
  "nbformat_minor": 0,
  "metadata": {
    "colab": {
      "name": "0-basicNLPtasks.ipynb",
      "provenance": [],
      "collapsed_sections": [],
      "authorship_tag": "ABX9TyOoNF/ZbDYycgQiq7P1m7vH",
      "include_colab_link": true
    },
    "kernelspec": {
      "name": "python3",
      "display_name": "Python 3"
    },
    "language_info": {
      "name": "python"
    }
  },
  "cells": [
    {
      "cell_type": "markdown",
      "metadata": {
        "id": "view-in-github",
        "colab_type": "text"
      },
      "source": [
        "<a href=\"https://colab.research.google.com/github/isegura/seminarioUPM/blob/main/0_basicNLPtasks.ipynb\" target=\"_parent\"><img src=\"https://colab.research.google.com/assets/colab-badge.svg\" alt=\"Open In Colab\"/></a>"
      ]
    },
    {
      "cell_type": "markdown",
      "metadata": {
        "id": "WfWvRNjOSAnL"
      },
      "source": [
        "# Preprocessing tasks\n",
        "\n",
        "In this notebook, we will study some of the basic NLP tasks that  that serve to develop more ambitious NLP applications.\n",
        "\n",
        "In particular, we will learn about:\n",
        "\n",
        "\n",
        "1.   Basic tasks such as tokenization, sentence spliting, PoS tagging, lemmatization and stemming.\n",
        "3.   Stopwords\n",
        "4.   Vectorization (from words to vectors)\n",
        "        * Bag of words (BoW) model\n",
        "        * Tf-idf model\n",
        "        \n",
        "\n"
      ]
    },
    {
      "cell_type": "markdown",
      "metadata": {
        "id": "XeO7t0ZTTY0Z"
      },
      "source": [
        "## 1. Basic tasks: tokenization, sentence splitting, PoS taggin, lematization, and stemming.\n",
        "\n",
        "* sentence splitting: the taks of splitting an input text into sentences.\n",
        "* tokenization: the task of segmenting an input text into words (tokens).\n",
        "* PoS tagging: consists of assigning to each word its PoS tag. \n",
        "* lemmatization: given a word, returns its lemma\n",
        "* stemming: given a word, returns its root\n",
        "\n",
        "\n",
        "There are several NLP libraries  that already performe these tasks for us. We will use Spacy in this notebook"
      ]
    },
    {
      "cell_type": "code",
      "metadata": {
        "id": "wJoyNjCyR9BQ"
      },
      "source": [
        "!python3 -m spacy download en_core_web_sm\n",
        "\n",
        "import spacy\n",
        "nlp = spacy.load('en_core_web_sm')           # load model package \"en_core_web_sm\"\n",
        "print('spacy.en loaded')\n",
        "\n",
        "\n"
      ],
      "execution_count": null,
      "outputs": []
    },
    {
      "cell_type": "code",
      "metadata": {
        "colab": {
          "base_uri": "https://localhost:8080/"
        },
        "id": "heqSL8V2Uriw",
        "outputId": "e9bc507e-8ecc-4331-e966-66143fb82f9d"
      },
      "source": [
        "text=\"\"\"Dozens of people have died in Canada amid an unprecedented heatwave that has smashed temperature records. Police in the Vancouver area have responded to more than 130 sudden deaths since Friday. Most were elderly or had underlying health conditions, with heat often a contributing factor. Canada broke its temperature record for a third straight day on Tuesday - 49.6C (121.3F) in Lytton, British Columbia.The US north-west has also seen record highs - and a number of fatalities. Experts say climate change is expected to increase the frequency of extreme weather events, such as heatwaves. However, linking any single event to global warming is complicated. US President Joe Biden said the heatwave was tied to climate change in a speech on Tuesday as he pitched a plan to update the country's infrastructure network. On Wednesday he is meeting with governors of western US states and fire officials, as the annual North American wildfire season begins. The heat over western parts of Canada and the US has been caused by a dome of static high-pressure hot air stretching from California to the Arctic territories. Temperatures have been easing in coastal areas but there is not much respite for inland regions. Before Sunday, temperatures in Canada had never passed 45C.\"\"\"\n",
        "\n",
        "document = nlp(text)\n",
        "\n",
        "print(\"Sentences: \")\n",
        "for i,s in enumerate(document.sents):\n",
        "    print(i,s)\n",
        "    #for token in s:\n",
        "    #  print('\\t',token.orth_, token.pos_)"
      ],
      "execution_count": null,
      "outputs": [
        {
          "output_type": "stream",
          "text": [
            "Sentences: \n",
            "0 Dozens of people have died in Canada amid an unprecedented heatwave that has smashed temperature records.\n",
            "1 Police in the Vancouver area have responded to more than 130 sudden deaths since Friday.\n",
            "2 Most were elderly or had underlying health conditions, with heat often a contributing factor.\n",
            "3 Canada broke its temperature record for a third straight day on Tuesday - 49.6C (121.3F) in Lytton, British Columbia.\n",
            "4 The US north-west has also seen record highs - and a number of fatalities.\n",
            "5 Experts say climate change is expected to increase the frequency of extreme weather events, such as heatwaves.\n",
            "6 However, linking any single event to global warming is complicated.\n",
            "7 US President Joe Biden said the heatwave was tied to climate change in a speech on Tuesday as he pitched a plan to update the country's infrastructure network.\n",
            "8 On Wednesday he is meeting with governors of western US states and fire officials, as the annual North American wildfire season begins.\n",
            "9 The heat over western parts of Canada and the US has been caused by a dome of static high-pressure hot air stretching from California to the Arctic territories.\n",
            "10 Temperatures have been easing in coastal areas but there is not much respite for inland regions.\n",
            "11 Before Sunday, temperatures in Canada had never passed 45C.\n"
          ],
          "name": "stdout"
        }
      ]
    },
    {
      "cell_type": "markdown",
      "metadata": {
        "id": "7PecNew5WD21"
      },
      "source": [
        "# Tokenization and Pos tagging"
      ]
    },
    {
      "cell_type": "code",
      "metadata": {
        "colab": {
          "base_uri": "https://localhost:8080/"
        },
        "id": "hbQig6xsV-4I",
        "outputId": "a4a3e702-4e10-4947-cd68-59546a4eb28c"
      },
      "source": [
        "for i,s in enumerate(document.sents):\n",
        "    print(i,s)\n",
        "    for token in s:\n",
        "      print('\\t',token.orth_, token.pos_)\n",
        "    break"
      ],
      "execution_count": null,
      "outputs": [
        {
          "output_type": "stream",
          "text": [
            "0 Dozens of people have died in Canada amid an unprecedented heatwave that has smashed temperature records.\n",
            "\t Dozens NOUN\n",
            "\t of ADP\n",
            "\t people NOUN\n",
            "\t have AUX\n",
            "\t died VERB\n",
            "\t in ADP\n",
            "\t Canada PROPN\n",
            "\t amid ADP\n",
            "\t an DET\n",
            "\t unprecedented ADJ\n",
            "\t heatwave NOUN\n",
            "\t that DET\n",
            "\t has AUX\n",
            "\t smashed VERB\n",
            "\t temperature NOUN\n",
            "\t records NOUN\n",
            "\t . PUNCT\n"
          ],
          "name": "stdout"
        }
      ]
    },
    {
      "cell_type": "markdown",
      "metadata": {
        "id": "h5V7yUBKXG5B"
      },
      "source": [
        "Spacy also provides other useful features:"
      ]
    },
    {
      "cell_type": "code",
      "metadata": {
        "id": "hUi48bHgXFVu"
      },
      "source": [
        "for i, token in enumerate(document):\n",
        "    print(\"original:\", token.orth_)\n",
        "    print(\"shape:\", token.shape_)\n",
        "    print(\"PoS tag:\", token.pos_)\n",
        "\n",
        "\n",
        "    #print(\"lowercased:\", token.lower_)\n",
        "    print(\"lemma:\", token.lemma_)\n",
        "    print(\"prefix:\", token.prefix_)\n",
        "    print(\"suffix:\", token.suffix_)\n",
        "    print(\"----------------------------------------\")\n",
        "    #only shows three first tokens\n",
        "    if i > 5:\n",
        "        break\n"
      ],
      "execution_count": null,
      "outputs": []
    },
    {
      "cell_type": "markdown",
      "metadata": {
        "id": "6hY-9O2le46q"
      },
      "source": [
        "## Lemmatization and stemming\n"
      ]
    },
    {
      "cell_type": "code",
      "metadata": {
        "colab": {
          "base_uri": "https://localhost:8080/"
        },
        "id": "fZ5AnZ4ze94d",
        "outputId": "b1403f93-1d97-40f3-fee2-1fe3c39762e6"
      },
      "source": [
        "import nltk\n",
        "from nltk.stem.porter import *\n",
        "stemmer = PorterStemmer()\n",
        "\n",
        "tokens = ['studies', 'studied', 'studying', 'student']\n",
        "text=' '.join(tokens)\n",
        "\n",
        "\n",
        "#print(sentence)\n",
        "for word in nlp(text):\n",
        "    print('word: ' + word.text + '\\tlemma:'+ word.lemma_+ \"\\tstem:\"+stemmer.stem(word.text))\n"
      ],
      "execution_count": null,
      "outputs": [
        {
          "output_type": "stream",
          "text": [
            "word: studies\tlemma:studies\tstem:studi\n",
            "word: studied\tlemma:studied\tstem:studi\n",
            "word: studying\tlemma:studying\tstem:studi\n",
            "word: student\tlemma:student\tstem:student\n"
          ],
          "name": "stdout"
        }
      ]
    },
    {
      "cell_type": "markdown",
      "metadata": {
        "id": "2JzFJgfQX-V0"
      },
      "source": [
        "## Removing stopwords\n",
        "\n"
      ]
    },
    {
      "cell_type": "code",
      "metadata": {
        "colab": {
          "base_uri": "https://localhost:8080/"
        },
        "id": "xKeAK5lZYAvG",
        "outputId": "590b67d1-8426-43a9-f63b-d90a5ff1adbf"
      },
      "source": [
        "from spacy.lang.en import English\n",
        "from spacy.lang.en.stop_words import STOP_WORDS\n",
        "\n",
        "print(STOP_WORDS)\n",
        "# Load English tokenizer, tagger, parser, NER and word vectors\n",
        "nlp = English()\n",
        "\n",
        "text='There are 25 children, who were playing, while their parents were chatting.'\n",
        "text=text.lower()\n",
        "\n",
        "my_doc = nlp(text)\n",
        "\n",
        "# Create list of word tokens\n",
        "token_list = []\n",
        "# Create list of word tokens after removing stopwords\n",
        "filtered =[] \n",
        "\n",
        "for token in my_doc:\n",
        "    word=token.text\n",
        "    token_list.append(token.text)\n",
        "    lexeme = nlp.vocab[token.text]\n",
        "    if lexeme.is_stop == False:\n",
        "        filtered.append(token.text)\n",
        "        \n",
        "\n",
        "\n",
        "print(\"Input Sentence: \\t{}\".format(\" \".join(token_list)))\n",
        "s=\" \".join(filtered)\n",
        "print(\"Text without stopwords: \\t{}\".format(s))\n"
      ],
      "execution_count": null,
      "outputs": [
        {
          "output_type": "stream",
          "text": [
            "Input Sentence: \tthere are 25 children , who were playing , while their parents were chatting .\n",
            "Text without stopwords: \t25 children , playing , parents chatting .\n"
          ],
          "name": "stdout"
        }
      ]
    },
    {
      "cell_type": "markdown",
      "metadata": {
        "id": "vjyxPaTYZHQn"
      },
      "source": [
        "## Removing puntuaction, special characters and numbers\n",
        "\n",
        "More examples: \n",
        "https://github.com/isegura/BasicNLP/tree/master/RegEx"
      ]
    },
    {
      "cell_type": "code",
      "metadata": {
        "colab": {
          "base_uri": "https://localhost:8080/"
        },
        "id": "mmTD2pbEaL68",
        "outputId": "46867233-f39f-400d-bc61-05841313ea39"
      },
      "source": [
        "import re\n",
        "\n",
        "clean = re.sub(r'[^\\w\\s]+','',s)\n",
        "print(\"after removing puntuaction, special characters: \", clean)\n",
        "clean = re.sub(r'[\\d]+','',clean)\n",
        "print(\"after removing numbers: \", clean)\n"
      ],
      "execution_count": null,
      "outputs": [
        {
          "output_type": "stream",
          "text": [
            "after removing puntuaction, special characters:  25 children  playing  parents chatting \n",
            "after removing numbers:   children  playing  parents chatting \n"
          ],
          "name": "stdout"
        }
      ]
    },
    {
      "cell_type": "markdown",
      "metadata": {
        "id": "aOZ1uLckdYeI"
      },
      "source": [
        "# More... \n",
        "\n",
        "* Named Entity Recognition with Spacy: https://github.com/isegura/BasicNLP/blob/master/NER/IntroNER_spacy.ipynb\n",
        "* Noun chunker and parsing: https://github.com/isegura/BasicNLP/blob/master/TextProccesing/SpaCy_NLP.ipynb\n",
        "* Word embeddings with Spacy: https://github.com/isegura/BasicNLP/blob/master/TextSimilarity/Word_Embeddings_By_Spacy.ipynb\n",
        "\n"
      ]
    }
  ]
}