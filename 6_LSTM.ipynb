{
  "nbformat": 4,
  "nbformat_minor": 0,
  "metadata": {
    "language_info": {
      "codemirror_mode": {
        "name": "ipython",
        "version": 3
      },
      "file_extension": ".py",
      "mimetype": "text/x-python",
      "name": "python",
      "nbconvert_exporter": "python",
      "pygments_lexer": "ipython3",
      "version": "3.7.4"
    },
    "orig_nbformat": 2,
    "kernelspec": {
      "name": "python374jvsc74a57bd0dca0ade3e726a953b501b15e8e990130d2b7799f14cfd9f4271676035ebe5511",
      "display_name": "Python 3.7.4 64-bit ('base': conda)"
    },
    "metadata": {
      "interpreter": {
        "hash": "0b6db1c9eb42b02ddde262e91131b34b8bc0f19661aef4215bc059af74454cb9"
      }
    },
    "colab": {
      "name": "6-LSTM.ipynb",
      "provenance": [],
      "collapsed_sections": [],
      "include_colab_link": true
    },
    "accelerator": "GPU"
  },
  "cells": [
    {
      "cell_type": "markdown",
      "metadata": {
        "id": "view-in-github",
        "colab_type": "text"
      },
      "source": [
        "<a href=\"https://colab.research.google.com/github/isegura/seminarioUPM/blob/main/6_LSTM.ipynb\" target=\"_parent\"><img src=\"https://colab.research.google.com/assets/colab-badge.svg\" alt=\"Open In Colab\"/></a>"
      ]
    },
    {
      "cell_type": "markdown",
      "metadata": {
        "id": "nZTPXt1mQ3Ec"
      },
      "source": [
        "# Long Short Term Memory (LSTM)\n",
        "\n",
        "In this notebook, we will learn how to use a BiLSTM to classify the sentiment of tweets about Covid-10. \n"
      ]
    },
    {
      "cell_type": "markdown",
      "metadata": {
        "id": "U9zakKFtQ3Ee"
      },
      "source": [
        "[Kaggle example](https://www.kaggle.com/anubhavsanyal/tensorflow-with-lstm-83-accuracy/notebook)"
      ]
    },
    {
      "cell_type": "code",
      "metadata": {
        "id": "DRaQ3ZvfQ3Ef"
      },
      "source": [
        "import numpy as np\n",
        "import matplotlib.pyplot as plt\n",
        "import math\n",
        "import sklearn\n",
        "import seaborn as sns\n",
        "\n",
        "from sklearn.model_selection import train_test_split\n",
        "from sklearn.metrics import confusion_matrix, classification_report\n",
        "from sklearn import metrics\n",
        "\n"
      ],
      "execution_count": null,
      "outputs": []
    },
    {
      "cell_type": "markdown",
      "metadata": {
        "id": "S07zeNruRk74"
      },
      "source": [
        "First, we should mount your google drive folder:"
      ]
    },
    {
      "cell_type": "code",
      "metadata": {
        "colab": {
          "base_uri": "https://localhost:8080/"
        },
        "id": "8OYQwXU2RkDe",
        "outputId": "134f64b3-724a-4d1f-b663-82fcacbf5219"
      },
      "source": [
        "from google.colab import drive\n",
        "drive.mount(\"/content/drive/\")\n",
        "root='drive/My Drive/Colab Notebooks/seminarioUPM/'\n"
      ],
      "execution_count": null,
      "outputs": [
        {
          "output_type": "stream",
          "text": [
            "Mounted at /content/drive/\n"
          ],
          "name": "stdout"
        }
      ]
    },
    {
      "cell_type": "markdown",
      "metadata": {
        "id": "URQAUVAf_4Wp"
      },
      "source": [
        "## Loading the data"
      ]
    },
    {
      "cell_type": "code",
      "metadata": {
        "colab": {
          "base_uri": "https://localhost:8080/",
          "height": 222
        },
        "id": "APkowpzwQ3Ef",
        "outputId": "d5868c0a-d81f-480c-ba61-8d5f719a2f9d"
      },
      "source": [
        "import pandas as pd\n",
        "\n",
        "# reading the already cleaned data\n",
        "train_data = pd.read_csv(root+'data/train.csv')\n",
        "test_data = pd.read_csv(root+'data/test.csv')\n",
        "# dropping indexes with nan\n",
        "\n",
        "# training set\n",
        "index_with_nan = train_data.index[train_data.isnull().any(axis=1)]\n",
        "train_data.drop(index_with_nan,0, inplace=True)\n",
        "\n",
        "# testing set\n",
        "index_with_nan = test_data.index[test_data.isnull().any(axis=1)]\n",
        "test_data.drop(index_with_nan,0, inplace=True)\n",
        "print(f'Training instances: {train_data.shape[0]}, testing instances: {test_data.shape[0]}')\n",
        "train_data.head()"
      ],
      "execution_count": null,
      "outputs": [
        {
          "output_type": "stream",
          "text": [
            "Training instances: 41087, testing instances: 3795\n"
          ],
          "name": "stdout"
        },
        {
          "output_type": "execute_result",
          "data": {
            "text/html": [
              "<div>\n",
              "<style scoped>\n",
              "    .dataframe tbody tr th:only-of-type {\n",
              "        vertical-align: middle;\n",
              "    }\n",
              "\n",
              "    .dataframe tbody tr th {\n",
              "        vertical-align: top;\n",
              "    }\n",
              "\n",
              "    .dataframe thead th {\n",
              "        text-align: right;\n",
              "    }\n",
              "</style>\n",
              "<table border=\"1\" class=\"dataframe\">\n",
              "  <thead>\n",
              "    <tr style=\"text-align: right;\">\n",
              "      <th></th>\n",
              "      <th>Corpus</th>\n",
              "      <th>label</th>\n",
              "    </tr>\n",
              "  </thead>\n",
              "  <tbody>\n",
              "    <tr>\n",
              "      <th>0</th>\n",
              "      <td>advice talk neighbour family exchange phone nu...</td>\n",
              "      <td>4</td>\n",
              "    </tr>\n",
              "    <tr>\n",
              "      <th>1</th>\n",
              "      <td>coronavirus australia woolworth elderly disabl...</td>\n",
              "      <td>4</td>\n",
              "    </tr>\n",
              "    <tr>\n",
              "      <th>2</th>\n",
              "      <td>food stock panic food need stay calm stay safe</td>\n",
              "      <td>4</td>\n",
              "    </tr>\n",
              "    <tr>\n",
              "      <th>3</th>\n",
              "      <td>ready supermarket outbreak paranoid food stock...</td>\n",
              "      <td>0</td>\n",
              "    </tr>\n",
              "    <tr>\n",
              "      <th>4</th>\n",
              "      <td>news regionâs confirmed covid case came sulli...</td>\n",
              "      <td>4</td>\n",
              "    </tr>\n",
              "  </tbody>\n",
              "</table>\n",
              "</div>"
            ],
            "text/plain": [
              "                                              Corpus  label\n",
              "0  advice talk neighbour family exchange phone nu...      4\n",
              "1  coronavirus australia woolworth elderly disabl...      4\n",
              "2     food stock panic food need stay calm stay safe      4\n",
              "3  ready supermarket outbreak paranoid food stock...      0\n",
              "4  news regionâs confirmed covid case came sulli...      4"
            ]
          },
          "metadata": {
            "tags": []
          },
          "execution_count": 3
        }
      ]
    },
    {
      "cell_type": "markdown",
      "metadata": {
        "id": "AHzfkwD0Q3Eg"
      },
      "source": [
        "Obtaining texts and labels:"
      ]
    },
    {
      "cell_type": "code",
      "metadata": {
        "id": "n9kTkb6MQ3Eg"
      },
      "source": [
        "#texts\n",
        "X_train = train_data.iloc[:,0]\n",
        "X_test = test_data.iloc[:,0]\n",
        "\n",
        "#labels\n",
        "y_train = train_data.iloc[:,1]\n",
        "y_test = test_data.iloc[:,1]\n",
        "\n",
        "#before get_dummies()\n",
        "#print('#before get_dummies()')\n",
        "#for i in range(10):\n",
        "#    print(i,y_train[i])\n",
        "#print()\n",
        "\n",
        "#converts from a categorial data to a one-hot encoding vector \n",
        "y_train = pd.get_dummies(y_train)\n",
        "y_test = pd.get_dummies(y_test)\n",
        "#after get_dummies()\n",
        "#print('#after get_dummies()')\n",
        "#y_train.head(10)\n",
        "\n",
        "#convertir el dataframe en un array numpy\n",
        "train_text=X_train.to_numpy()\n",
        "train_labels = y_train.to_numpy() \n",
        "\n",
        "\n",
        "test_text = X_test.to_numpy()\n",
        "test_labels = y_test.to_numpy() "
      ],
      "execution_count": null,
      "outputs": []
    },
    {
      "cell_type": "markdown",
      "metadata": {
        "id": "A9Gov3LyQ3Eh"
      },
      "source": [
        "## From words to vectors\n",
        "\n",
        "To transform texts to vectors we will use the keras tokenizer:"
      ]
    },
    {
      "cell_type": "code",
      "metadata": {
        "id": "Eam15VEkQ3Ei",
        "colab": {
          "base_uri": "https://localhost:8080/"
        },
        "outputId": "e98a607e-f53a-49a3-afc6-2ce674ce3b68"
      },
      "source": [
        "\n",
        "#import tensorflow as tf \n",
        "from tensorflow.keras.preprocessing.text import Tokenizer\n",
        "from tensorflow.keras.preprocessing.sequence import pad_sequences\n",
        "\n",
        "\n",
        "MAX_WORDS = 40000\n",
        "#the maximum number of words to keep, based on word frequency. \n",
        "#Only the most common num_words-1 words will be kept.\n",
        "\n",
        "#oov_token: any unknown word will be replaced by the tag OOVthis will replace any unknown words with a token of our choosing\n",
        "\n",
        "tokenizer = Tokenizer(num_words=MAX_WORDS, oov_token='OOV')\n",
        "\n",
        "# fitting the tokenizer on the texts\n",
        "tokenizer.fit_on_texts(train_text)\n",
        "\n",
        "word_index = tokenizer.word_index\n",
        "print('size of the vocabulary:' , len(word_index))\n",
        "\n",
        "#NUM_WORDS=min(len(word_index),MAX_WORDS)\n",
        "NUM_WORDS=len(word_index)\n"
      ],
      "execution_count": null,
      "outputs": [
        {
          "output_type": "stream",
          "text": [
            "size of the vocabulary: 30841\n"
          ],
          "name": "stdout"
        }
      ]
    },
    {
      "cell_type": "markdown",
      "metadata": {
        "id": "WBctBIxWWOJS"
      },
      "source": [
        "Now we represent the text (sequence) into vectors. We have to decide the maximum number of tokens in a sequence. Several studies have shown that this size could be 30.\n",
        "\n",
        "<img src='https://www.researchgate.net/profile/Sifei-Han-2/publication/280206298/figure/fig1/AS:284595032477696@1444864151246/Distributions-of-tweets-with-different-numbers-of-tokens-from-a-dataset-of-10-000.png' scale=0.15>\n",
        "\n",
        "Han, S., & Kavuluru, R. (2015, June). On assessing the sentiment of general tweets. In Canadian Conference on Artificial Intelligence (pp. 181-195). Springer, Cham.\n",
        "\n",
        "\n",
        "We have to tranform tweets into sequences  (which will be vectors) for training and test texts.\n",
        "\n",
        "* If a tweet has less than 30 tokens, we will add padding at the end of the sequence. \n",
        "* If a tweet has more than 30 tokens, we will remove tokens at the beginning of the sequence. \n",
        "\n",
        "In this way, all sequences have the same number of tokens (30).\n",
        "\n"
      ]
    },
    {
      "cell_type": "code",
      "metadata": {
        "id": "sj8SxaWSQ3Ei"
      },
      "source": [
        "MAX_SEQUENCE_LENGTH=30 #lenght of the input sequences\n",
        "\n",
        "# transform texts into vectors (id of vectors)\n",
        "train_text_sequeces = tokenizer.texts_to_sequences(train_text)\n",
        "#print(\"sequence:\", str(len(train_text_sequeces[0]))+ ' tokens', train_text_sequeces[0])\n",
        "\n",
        "# add padding (if the text has less than 30 tokens) or remove tokens from the beginning (if it has more than 30 tokens)\n",
        "train_text_padded = pad_sequences(train_text_sequeces, maxlen=MAX_SEQUENCE_LENGTH, padding = 'post', truncating='pre') \n",
        "#print(\"after padding: \",train_text_padded[0])\n",
        "\n",
        "#print(train_text_padded.shape) #41087 tweets (rows) x 30 words (maxlen)\n",
        "\n",
        "\n",
        "#test to sequence#\n",
        "test_text_sequeces = tokenizer.texts_to_sequences(test_text)\n",
        "test_text_padded = pad_sequences(tokenizer.texts_to_sequences(test_text), maxlen=MAX_SEQUENCE_LENGTH, padding = 'post', truncating='pre') \n"
      ],
      "execution_count": null,
      "outputs": []
    },
    {
      "cell_type": "markdown",
      "metadata": {
        "id": "W-Yl0EQBQ3Ej"
      },
      "source": [
        "## Defining the model LSTM\n",
        "\n",
        "First, we will define a very simple system with:\n",
        "- a input layer: embedding with random initialization.\n",
        "- a LSTM layer with 30 units. \n",
        "- a softmax with 5 output units (each unit represents a class sentiment: ext. negative, negative, neutral, positive, ext. positive.\n",
        "\n",
        "To define, we will use some keras classes:"
      ]
    },
    {
      "cell_type": "code",
      "metadata": {
        "id": "4h_sWnmZQ3Em",
        "colab": {
          "base_uri": "https://localhost:8080/"
        },
        "outputId": "77ea15ac-8ded-4d08-d880-5ee522f4470f"
      },
      "source": [
        "from keras.models import Sequential\n",
        "from keras.layers import Dense, LSTM, Embedding\n",
        "\n",
        "model = Sequential()\n",
        "\n",
        "EMBEDDING_DIM = 100\n",
        "\n",
        "# embedding layer\n",
        "model.add(Embedding(NUM_WORDS+1, EMBEDDING_DIM, input_length=MAX_SEQUENCE_LENGTH))\n",
        "\n",
        "# LSTM layer\n",
        "model.add(LSTM(MAX_SEQUENCE_LENGTH))\n",
        "\n",
        "# second hidden layer\n",
        "#model.add(Dense(10, activation='relu'))\n",
        "\n",
        "# output dense layer, with 5 categories, as many as our sentiments\n",
        "model.add(Dense(5, activation='softmax'))\n",
        "\n",
        "model.summary()"
      ],
      "execution_count": null,
      "outputs": [
        {
          "output_type": "stream",
          "text": [
            "Model: \"sequential\"\n",
            "_________________________________________________________________\n",
            "Layer (type)                 Output Shape              Param #   \n",
            "=================================================================\n",
            "embedding (Embedding)        (None, 30, 100)           3084200   \n",
            "_________________________________________________________________\n",
            "lstm (LSTM)                  (None, 30)                15720     \n",
            "_________________________________________________________________\n",
            "dense (Dense)                (None, 5)                 155       \n",
            "=================================================================\n",
            "Total params: 3,100,075\n",
            "Trainable params: 3,100,075\n",
            "Non-trainable params: 0\n",
            "_________________________________________________________________\n"
          ],
          "name": "stdout"
        }
      ]
    },
    {
      "cell_type": "markdown",
      "metadata": {
        "id": "uK9RoOgPM_T2"
      },
      "source": [
        "We will use Adam Optimizer, which is an extension to stochastic gradient descent method. \n",
        "\n",
        "One of the most important parameter of a neural network is the learnig rate. \n",
        "* Its default learning rate for Adam is  0.001\n",
        "* 0.01 typically works for standard multi-layer neural networks \n",
        "* The most common values are 0.1 and 0.01,\n",
        "* There is not an algorithm to obtain it, the only method is trial and error.\n",
        "\n",
        "<img src='https://miro.medium.com/max/1400/1*n79s9gvd0E8ALe9dLUEKAw.png' scale=0.50>\n",
        "\n",
        "https://towardsdatascience.com/finding-good-learning-rate-and-the-one-cycle-policy-7159fe1db5d6"
      ]
    },
    {
      "cell_type": "code",
      "metadata": {
        "id": "TMSNffCVQ3Em",
        "colab": {
          "base_uri": "https://localhost:8080/"
        },
        "outputId": "dc2b919d-307f-4c6e-c755-645be9f746a8"
      },
      "source": [
        "from keras.losses import CategoricalCrossentropy\n",
        "from keras.optimizers import Adam\n",
        "from keras.callbacks import EarlyStopping\n",
        "\n",
        "\n",
        "#learning_rate=0.01\n",
        "model.compile(loss=CategoricalCrossentropy(), optimizer=Adam(), metrics=['accuracy'])\n",
        "\n",
        "#https://machinelearningmastery.com/how-to-stop-training-deep-neural-networks-at-the-right-time-using-early-stopping/\n",
        "early_stop = EarlyStopping(monitor='val_loss', patience=3)\n",
        "\n",
        "#If unspecified, batch_size will default to 32\n",
        "#Advantages of using a batch size < number of all samples: requires less memory and trains faster\n",
        "#Disadvantage the smaller the batch the less accurate the estimate of the gradient will be\n",
        "\n",
        "#epochs: the number times that the learning algorithm will work through the entire training dataset.\n",
        "#https://machinelearningmastery.com/difference-between-a-batch-and-an-epoch/\n",
        "\n",
        "history = model.fit(train_text_padded, \n",
        "                       train_labels, \n",
        "                       epochs = 10, \n",
        "                       #validation_data=(validation_text_padded, validation_labels), \n",
        "                       validation_split=0.2,\n",
        "                       callbacks=[early_stop])\n",
        "\n",
        "print('trained...')"
      ],
      "execution_count": null,
      "outputs": [
        {
          "output_type": "stream",
          "text": [
            "Epoch 1/10\n",
            "1028/1028 [==============================] - 53s 32ms/step - loss: 1.2914 - accuracy: 0.4344 - val_loss: 0.8153 - val_accuracy: 0.6963\n",
            "Epoch 2/10\n",
            "1028/1028 [==============================] - 31s 30ms/step - loss: 0.7110 - accuracy: 0.7444 - val_loss: 0.7749 - val_accuracy: 0.7201\n",
            "Epoch 3/10\n",
            "1028/1028 [==============================] - 32s 31ms/step - loss: 0.5389 - accuracy: 0.8138 - val_loss: 0.7995 - val_accuracy: 0.7189\n",
            "Epoch 4/10\n",
            "1028/1028 [==============================] - 31s 30ms/step - loss: 0.4301 - accuracy: 0.8579 - val_loss: 0.8770 - val_accuracy: 0.7151\n",
            "Epoch 5/10\n",
            "1028/1028 [==============================] - 31s 31ms/step - loss: 0.3546 - accuracy: 0.8876 - val_loss: 0.9596 - val_accuracy: 0.6975\n",
            "trained...\n"
          ],
          "name": "stdout"
        }
      ]
    },
    {
      "cell_type": "markdown",
      "metadata": {
        "id": "Ady6OXGxQIi0"
      },
      "source": [
        "### How to interpret learning curves\n",
        "\n",
        "https://machinelearningmastery.com/learning-curves-for-diagnosing-machine-learning-model-performance/"
      ]
    },
    {
      "cell_type": "code",
      "metadata": {
        "id": "FGIsnSheQ3Ej"
      },
      "source": [
        "#Function to plot learning curve\n",
        "def plot_loss(loss, val_loss):\n",
        "    fig, axs = plt.subplots(1)\n",
        "    axs.plot(loss)\n",
        "    axs.plot(val_loss)\n",
        "    axs.set_title('Training and Validation Losses')\n",
        "    axs.set_xlabel('Epoch')\n",
        "    axs.set_ylabel('Loss')\n",
        "    axs.legend(['Train', 'Val'])\n",
        "    fig.tight_layout()\n",
        "    plt.show()\n",
        "\n",
        "    "
      ],
      "execution_count": null,
      "outputs": []
    },
    {
      "cell_type": "code",
      "metadata": {
        "id": "SQvo0Zt0Q3En",
        "colab": {
          "base_uri": "https://localhost:8080/",
          "height": 297
        },
        "outputId": "a1b51dbd-0282-4362-ac30-d4d6f1efa397"
      },
      "source": [
        "plot_loss(history.history['loss'], history.history['val_loss'])"
      ],
      "execution_count": null,
      "outputs": [
        {
          "output_type": "display_data",
          "data": {
            "image/png": "[encoded data removed]",
            "text/plain": [
              "<Figure size 432x288 with 1 Axes>"
            ]
          },
          "metadata": {
            "tags": [],
            "needs_background": "light"
          }
        }
      ]
    },
    {
      "cell_type": "markdown",
      "metadata": {
        "id": "hONNjaPiQ3En"
      },
      "source": [
        "### Second model: BiLSTM \n",
        "\n",
        "Enhancing the performance by applying a BiLSTM layer. We also use dropout and another Dense layer"
      ]
    },
    {
      "cell_type": "code",
      "metadata": {
        "id": "YwacltZfQ3En",
        "colab": {
          "base_uri": "https://localhost:8080/"
        },
        "outputId": "d735e67f-3790-4a32-9238-caa403e37103"
      },
      "source": [
        "from keras.layers import Bidirectional, Dropout\n",
        "\n",
        "model2 = Sequential()\n",
        "\n",
        "# embedding layer\n",
        "model2.add(Embedding(NUM_WORDS+1, EMBEDDING_DIM, input_length=MAX_SEQUENCE_LENGTH))\n",
        "# LSTM layer\n",
        "model2.add(Bidirectional(LSTM(MAX_SEQUENCE_LENGTH)))\n",
        "# second hidden layer\n",
        "#model2.add(Dense(MAX_SEQUENCE_LENGTH, activation='relu'))\n",
        "# dropout: reduce overfitting. During training, some number of layer outputs are randomly ignored or “dropped out.”\n",
        "# A common value is a probability of 0.5 for retaining the output of each node in a hidden layer \n",
        "# and a value close to 1.0, such as 0.8, for retaining inputs from the visible layer.\n",
        "#https://machinelearningmastery.com/dropout-for-regularizing-deep-neural-networks/\n",
        "#model2.add(Dropout(0.4))\n",
        "# third layer: can fix the vanishing gradients problem,\n",
        "#https://machinelearningmastery.com/rectified-linear-activation-function-for-deep-learning-neural-networks/\n",
        "#model2.add(Dense(10, activation = 'relu'))\n",
        "# dropout \n",
        "#model2.add(Dropout(0.4))\n",
        "# fourth layer \n",
        "#model2.add(Dense(10, activation = 'relu'))\n",
        "# output dense layer, with 5 categories, as many as our sentiments\n",
        "model2.add(Dense(5, activation='softmax'))\n",
        "\n",
        "model2.summary()\n"
      ],
      "execution_count": null,
      "outputs": [
        {
          "output_type": "stream",
          "text": [
            "Model: \"sequential_3\"\n",
            "_________________________________________________________________\n",
            "Layer (type)                 Output Shape              Param #   \n",
            "=================================================================\n",
            "embedding_3 (Embedding)      (None, 30, 100)           3084200   \n",
            "_________________________________________________________________\n",
            "bidirectional_2 (Bidirection (None, 60)                31440     \n",
            "_________________________________________________________________\n",
            "dense_9 (Dense)              (None, 5)                 305       \n",
            "=================================================================\n",
            "Total params: 3,115,945\n",
            "Trainable params: 3,115,945\n",
            "Non-trainable params: 0\n",
            "_________________________________________________________________\n"
          ],
          "name": "stdout"
        }
      ]
    },
    {
      "cell_type": "code",
      "metadata": {
        "colab": {
          "base_uri": "https://localhost:8080/",
          "height": 422
        },
        "id": "tfmzC9yZexPh",
        "outputId": "ab9776fc-7c8b-42bf-93de-b43a7b48ef55"
      },
      "source": [
        "from keras.utils.vis_utils import plot_model\n",
        "\n",
        "plot_model(model2, to_file='model_plot.png', show_shapes=True, show_layer_names=True)"
      ],
      "execution_count": null,
      "outputs": [
        {
          "output_type": "execute_result",
          "data": {
            "image/png": "[encoded data removed]",
            "text/plain": [
              "<IPython.core.display.Image object>"
            ]
          },
          "metadata": {
            "tags": []
          },
          "execution_count": 24
        }
      ]
    },
    {
      "cell_type": "code",
      "metadata": {
        "tags": [],
        "id": "84sC5x0cQ3En",
        "colab": {
          "base_uri": "https://localhost:8080/"
        },
        "outputId": "27a17f9d-eb3f-4428-d032-19b9240fb250"
      },
      "source": [
        "# compiling the model and fitting it \n",
        "early_stop = EarlyStopping(monitor='val_loss', patience=3)\n",
        "\n",
        "#learning_rate=0.01\n",
        "model2.compile(loss=CategoricalCrossentropy(), optimizer=Adam(), metrics=['accuracy'])\n",
        "history2 = model2.fit(train_text_padded, \n",
        "                       train_labels, \n",
        "                       epochs = 10, \n",
        "                        validation_split=0.2,\n",
        "                       #validation_data=(validation_text_padded, validation_labels), \n",
        "                       callbacks=[early_stop])"
      ],
      "execution_count": null,
      "outputs": [
        {
          "output_type": "stream",
          "text": [
            "Epoch 1/10\n",
            "1028/1028 [==============================] - 36s 32ms/step - loss: 1.1290 - accuracy: 0.5272 - val_loss: 0.7361 - val_accuracy: 0.7357\n",
            "Epoch 2/10\n",
            "1028/1028 [==============================] - 32s 31ms/step - loss: 0.6086 - accuracy: 0.7820 - val_loss: 0.7456 - val_accuracy: 0.7403\n",
            "Epoch 3/10\n",
            "1028/1028 [==============================] - 32s 32ms/step - loss: 0.4460 - accuracy: 0.8440 - val_loss: 0.8102 - val_accuracy: 0.7207\n",
            "Epoch 4/10\n",
            "1028/1028 [==============================] - 32s 31ms/step - loss: 0.3542 - accuracy: 0.8828 - val_loss: 0.9135 - val_accuracy: 0.7176\n"
          ],
          "name": "stdout"
        }
      ]
    },
    {
      "cell_type": "code",
      "metadata": {
        "id": "iUeiAJOTQ3Eo",
        "colab": {
          "base_uri": "https://localhost:8080/",
          "height": 297
        },
        "outputId": "30a85a6c-7148-4fc8-81ea-e07c64f423cb"
      },
      "source": [
        "plot_loss(history2.history['loss'], history2.history['val_loss'])"
      ],
      "execution_count": null,
      "outputs": [
        {
          "output_type": "display_data",
          "data": {
            "image/png": "[encoded data removed]",
            "text/plain": [
              "<Figure size 432x288 with 1 Axes>"
            ]
          },
          "metadata": {
            "tags": [],
            "needs_background": "light"
          }
        }
      ]
    },
    {
      "cell_type": "markdown",
      "metadata": {
        "id": "gijQyGZEQ3Eo"
      },
      "source": [
        "## Evaluation on the test dataset"
      ]
    },
    {
      "cell_type": "code",
      "metadata": {
        "id": "55DIqorHQ3Eo"
      },
      "source": [
        "test_pred = model2.predict(test_text_padded)\n",
        "test_pred = test_pred.round().astype(int)"
      ],
      "execution_count": null,
      "outputs": []
    },
    {
      "cell_type": "code",
      "metadata": {
        "id": "a45SQWgxQ3Ep"
      },
      "source": [
        "# transforming the pred vectors to its label:\n",
        "test_pred_cat = np.zeros(test_pred.shape[0],)\n",
        "test_labels_cat = np.zeros(test_pred.shape[0],)\n",
        "\n",
        "for i in range(0,test_pred.shape[0],1):\n",
        "  test_pred_cat[i] = test_pred[i].argmax()\n",
        "  test_labels_cat[i] = test_labels[i].argmax()\n",
        "\n",
        "test_pred_cat = test_pred_cat.astype(int)\n",
        "test_labels_cat = test_labels_cat.astype(int)"
      ],
      "execution_count": null,
      "outputs": []
    },
    {
      "cell_type": "code",
      "metadata": {
        "id": "CRAyAmoqQ3Ep",
        "colab": {
          "base_uri": "https://localhost:8080/"
        },
        "outputId": "7c204e17-e552-4d6d-e1fa-dbbe4c3eaa48"
      },
      "source": [
        "labels = {'Extremely Negative': 0,\n",
        "          'Extremely Positive': 1,\n",
        "          'Negative': 2,\n",
        "          'Neutral': 3,\n",
        "          'Positive': 4}\n",
        "print(classification_report(test_labels_cat, test_pred_cat, target_names= labels.keys()))"
      ],
      "execution_count": null,
      "outputs": [
        {
          "output_type": "stream",
          "text": [
            "                    precision    recall  f1-score   support\n",
            "\n",
            "Extremely Negative       0.55      0.69      0.61       592\n",
            "Extremely Positive       0.73      0.62      0.67       599\n",
            "          Negative       0.63      0.56      0.59      1041\n",
            "           Neutral       0.80      0.71      0.75       616\n",
            "          Positive       0.58      0.65      0.61       947\n",
            "\n",
            "          accuracy                           0.64      3795\n",
            "         macro avg       0.66      0.65      0.65      3795\n",
            "      weighted avg       0.65      0.64      0.64      3795\n",
            "\n"
          ],
          "name": "stdout"
        }
      ]
    },
    {
      "cell_type": "markdown",
      "metadata": {
        "id": "hPM0P71jeKap"
      },
      "source": [
        "### Confuxion matrix"
      ]
    },
    {
      "cell_type": "code",
      "metadata": {
        "id": "pksk4WhxQ3Ep"
      },
      "source": [
        "conf_mat = confusion_matrix(test_labels_cat, test_pred_cat)\n",
        "fig, ax = plt.subplots(figsize=(10,10))\n",
        "sns.heatmap(conf_mat, annot=True, fmt='d',\n",
        "            xticklabels=labels.keys(), yticklabels=labels.keys(),cmap=\"Blues\")\n",
        "plt.ylabel('Actual')\n",
        "plt.xlabel('Predicted')\n",
        "plt.show()"
      ],
      "execution_count": null,
      "outputs": []
    }
  ]
}