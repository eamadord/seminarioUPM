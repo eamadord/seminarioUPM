{
  "nbformat": 4,
  "nbformat_minor": 0,
  "metadata": {
    "accelerator": "GPU",
    "colab": {
      "name": "8-BERT.ipynb",
      "provenance": [],
      "collapsed_sections": [],
      "include_colab_link": true
    },
    "kernelspec": {
      "display_name": "Python [conda env:py3-TF2.0]",
      "language": "python",
      "name": "conda-env-py3-TF2.0-py"
    },
    "language_info": {
      "codemirror_mode": {
        "name": "ipython",
        "version": 3
      },
      "file_extension": ".py",
      "mimetype": "text/x-python",
      "name": "python",
      "nbconvert_exporter": "python",
      "pygments_lexer": "ipython3",
      "version": "3.7.7"
    },
    "metadata": {
      "interpreter": {
        "hash": "0b6db1c9eb42b02ddde262e91131b34b8bc0f19661aef4215bc059af74454cb9"
      }
    }
  },
  "cells": [
    {
      "cell_type": "markdown",
      "metadata": {
        "id": "view-in-github",
        "colab_type": "text"
      },
      "source": [
        "<a href=\"https://colab.research.google.com/github/isegura/seminarioUPM/blob/main/8_BERT.ipynb\" target=\"_parent\"><img src=\"https://colab.research.google.com/assets/colab-badge.svg\" alt=\"Open In Colab\"/></a>"
      ]
    },
    {
      "cell_type": "markdown",
      "metadata": {
        "id": "OUZwjJPxjpoz"
      },
      "source": [
        "# BERT model \n",
        "\n",
        "In this notebook, we will train a system based on BERT to classify the sentiment of the tweets about Covid-19. \n"
      ]
    },
    {
      "cell_type": "markdown",
      "metadata": {
        "id": "jFrg3HKnjpo4"
      },
      "source": [
        "[BERT - Kaggle](https://www.kaggle.com/nayansakhiya/text-classification-using-bert)"
      ]
    },
    {
      "cell_type": "code",
      "metadata": {
        "id": "YAiLwfCZjpo6"
      },
      "source": [
        "import numpy as np\n",
        "import seaborn as sns\n",
        "import pandas as pd\n",
        "import matplotlib.pyplot as plt\n",
        "import math\n",
        "\n",
        "from sklearn.model_selection import train_test_split\n",
        "from sklearn.metrics import cohen_kappa_score\n",
        "from sklearn.metrics import roc_auc_score\n",
        "from sklearn.metrics import confusion_matrix, classification_report\n",
        "from sklearn import metrics"
      ],
      "execution_count": 2,
      "outputs": []
    },
    {
      "cell_type": "code",
      "metadata": {
        "colab": {
          "base_uri": "https://localhost:8080/"
        },
        "id": "Bn_pAy5Ujpo5",
        "outputId": "407ba902-fcb5-4960-9594-92d2d636d12d"
      },
      "source": [
        "# Load the Drive helper and mount\n",
        "from google.colab import drive\n",
        "drive.mount('/content/drive')\n",
        "root='drive/My Drive/Colab Notebooks/seminarioUPM/'\n"
      ],
      "execution_count": 1,
      "outputs": [
        {
          "output_type": "stream",
          "text": [
            "Mounted at /content/drive\n"
          ],
          "name": "stdout"
        }
      ]
    },
    {
      "cell_type": "code",
      "metadata": {
        "colab": {
          "base_uri": "https://localhost:8080/"
        },
        "id": "JhpYi8Ekjpo7",
        "outputId": "76e57393-7426-4cc1-aded-e7f9826c31c6"
      },
      "source": [
        "# reading the already cleaned data, paths are those obtained from google collab\n",
        "train_data = pd.read_csv(root+'data/train.csv')\n",
        "test_data = pd.read_csv(root+'data/test.csv')\n",
        "# dropping indexes with nan\n",
        "\n",
        "# training set\n",
        "index_with_nan = train_data.index[train_data.isnull().any(axis=1)]\n",
        "train_data.drop(index_with_nan,0, inplace=True)\n",
        "\n",
        "# testing set\n",
        "index_with_nan = test_data.index[test_data.isnull().any(axis=1)]\n",
        "test_data.drop(index_with_nan,0, inplace=True)\n",
        "print(f'Training instances: {train_data.shape[0]}, and testing instances: {test_data.shape[0]}')\n",
        "\n",
        "\n",
        "X_train = train_data.iloc[:,0]\n",
        "X_test = test_data.iloc[:,0]\n",
        "\n",
        "y_train = train_data.iloc[:,1]\n",
        "y_test = test_data.iloc[:,1]\n",
        "\n",
        "y_train = pd.get_dummies(y_train)\n",
        "y_test = pd.get_dummies(y_test)\n",
        "\n",
        "\n",
        "train_text=X_train.to_numpy()\n",
        "train_labels = y_train.to_numpy()\n",
        "# making the test data into numpy formats\n",
        "test_text = X_test.to_numpy()\n",
        "test_labels = y_test.to_numpy()"
      ],
      "execution_count": 15,
      "outputs": [
        {
          "output_type": "stream",
          "text": [
            "Training instances: 41087, and testing instances: 3795\n"
          ],
          "name": "stdout"
        }
      ]
    },
    {
      "cell_type": "markdown",
      "metadata": {
        "id": "w2vIX9jhjpo_"
      },
      "source": [
        "## Bert"
      ]
    },
    {
      "cell_type": "markdown",
      "metadata": {
        "id": "8Fd08z84jpo_"
      },
      "source": [
        "Now we will aplly more specific tasks more related to the BERT algorithm, like the BERT tokenization or the BERT model itself. We will be importing these tools from the internet."
      ]
    },
    {
      "cell_type": "code",
      "metadata": {
        "id": "R9eu5RPtjpo_"
      },
      "source": [
        "# import BERT tokenization\n",
        "\n",
        "!wget --quiet https://raw.githubusercontent.com/tensorflow/models/master/official/nlp/bert/tokenization.py"
      ],
      "execution_count": 5,
      "outputs": []
    },
    {
      "cell_type": "code",
      "metadata": {
        "colab": {
          "base_uri": "https://localhost:8080/"
        },
        "id": "OIvLktj2kEdR",
        "outputId": "f1d0ed5b-7577-4931-f344-2d9981e63642"
      },
      "source": [
        "!pip install sentencepiece"
      ],
      "execution_count": 6,
      "outputs": [
        {
          "output_type": "stream",
          "text": [
            "Collecting sentencepiece\n",
            "\u001b[?25l  Downloading https://files.pythonhosted.org/packages/ac/aa/1437691b0c7c83086ebb79ce2da16e00bef024f24fec2a5161c35476f499/sentencepiece-0.1.96-cp37-cp37m-manylinux_2_17_x86_64.manylinux2014_x86_64.whl (1.2MB)\n",
            "\u001b[K     |████████████████████████████████| 1.2MB 7.4MB/s \n",
            "\u001b[?25hInstalling collected packages: sentencepiece\n",
            "Successfully installed sentencepiece-0.1.96\n"
          ],
          "name": "stdout"
        }
      ]
    },
    {
      "cell_type": "code",
      "metadata": {
        "id": "X6pcD9Y6jppA"
      },
      "source": [
        "import tokenization\n",
        "import tensorflow as tf\n",
        "import tensorflow_hub as hub\n",
        "#from keras.utils import to_categorical\n",
        "from sklearn import preprocessing\n",
        "from sklearn.model_selection import train_test_split\n",
        "\n",
        "# keras\n",
        "import keras\n",
        "from tensorflow.keras.callbacks import EarlyStopping\n",
        "from tensorflow.keras.callbacks import ModelCheckpoint\n",
        "from tensorflow.keras.models import Model\n",
        "from tensorflow.keras.layers import Input, Dense, Dropout\n",
        "from tensorflow.keras.optimizers import Adam"
      ],
      "execution_count": 7,
      "outputs": []
    },
    {
      "cell_type": "markdown",
      "metadata": {
        "id": "jAiN6oEOjppA"
      },
      "source": [
        "Now we will import the BERT model from the hub.KerasLayer"
      ]
    },
    {
      "cell_type": "code",
      "metadata": {
        "id": "sMqshL0zjppB"
      },
      "source": [
        "# importing BERT Layer\n",
        "\n",
        "m_url = 'https://tfhub.dev/tensorflow/bert_en_uncased_L-12_H-768_A-12/2'\n",
        "bert_layer = hub.KerasLayer(m_url, trainable=True)"
      ],
      "execution_count": 8,
      "outputs": []
    },
    {
      "cell_type": "markdown",
      "metadata": {
        "id": "wRb01_1MjppB"
      },
      "source": [
        "### Load the tokenizer functions"
      ]
    },
    {
      "cell_type": "code",
      "metadata": {
        "id": "0pLJRZwNjppB"
      },
      "source": [
        "vocab_file = bert_layer.resolved_object.vocab_file.asset_path.numpy()\n",
        "do_lower_case = bert_layer.resolved_object.do_lower_case.numpy()\n",
        "tokenizer = tokenization.FullTokenizer(vocab_file, do_lower_case)"
      ],
      "execution_count": 10,
      "outputs": []
    },
    {
      "cell_type": "markdown",
      "metadata": {
        "id": "nA6DmGI-jppB"
      },
      "source": [
        "### Create the tokenization fuction"
      ]
    },
    {
      "cell_type": "code",
      "metadata": {
        "id": "79YHyji8jppB"
      },
      "source": [
        "def bert_encode(texts, tokenizer, max_len=160):\n",
        "    all_tokens = []\n",
        "    all_masks = []\n",
        "    all_segments = []\n",
        "    \n",
        "    for text in texts:\n",
        "        text = tokenizer.tokenize(text)\n",
        "        \n",
        "        text = text[:max_len-2]\n",
        "        input_sequence = [\"[CLS]\"] + text + [\"[SEP]\"]\n",
        "        pad_len = max_len-len(input_sequence)\n",
        "        \n",
        "        tokens = tokenizer.convert_tokens_to_ids(input_sequence) + [0] * pad_len\n",
        "        pad_masks = [1] * len(input_sequence) + [0] * pad_len\n",
        "        segment_ids = [0] * max_len\n",
        "        \n",
        "        all_tokens.append(tokens)\n",
        "        all_masks.append(pad_masks)\n",
        "        all_segments.append(segment_ids)\n",
        "        \n",
        "    return np.array(all_tokens), np.array(all_masks), np.array(all_segments)"
      ],
      "execution_count": 16,
      "outputs": []
    },
    {
      "cell_type": "markdown",
      "metadata": {
        "id": "_ZZDJ2QhjppD"
      },
      "source": [
        "### Now we perform the text encoding"
      ]
    },
    {
      "cell_type": "code",
      "metadata": {
        "id": "gSWszlzhjppD"
      },
      "source": [
        "train_input = bert_encode(train_text, tokenizer, max_len = 30)\n",
        "test_input = bert_encode(test_text, tokenizer, max_len = 30)\n",
        "\n"
      ],
      "execution_count": 25,
      "outputs": []
    },
    {
      "cell_type": "markdown",
      "metadata": {
        "id": "T6rSuDxqjppC"
      },
      "source": [
        "## Defining model: BERT + softmax layer"
      ]
    },
    {
      "cell_type": "code",
      "metadata": {
        "id": "bNj3snLzjppC"
      },
      "source": [
        "def build_model(bert_layer, max_len=160):\n",
        "    input_word_ids = Input(shape=(max_len,), dtype=tf.int32, name=\"input_word_ids\")\n",
        "    input_mask = Input(shape=(max_len,), dtype=tf.int32, name=\"input_mask\")\n",
        "    segment_ids = Input(shape=(max_len,), dtype=tf.int32, name=\"segment_ids\")\n",
        "\n",
        "    _, sequence_output = bert_layer([input_word_ids, input_mask, segment_ids])\n",
        "    clf_output = sequence_output[:, 0, :]\n",
        "\n",
        "    #lay = Dense(128, activation='relu')(clf_output)\n",
        "    #lay = Dropout(0.2)(lay)\n",
        "    #lay = Dense(64, activation='relu')(lay)\n",
        "    #lay = Dropout(0.2)(lay)\n",
        "    out = Dense(5, activation='softmax')(clf_output)\n",
        "    \n",
        "    model = Model(inputs=[input_word_ids, input_mask, segment_ids], outputs=out)\n",
        "    model.compile(Adam(learning_rate=2e-6), loss='binary_crossentropy', metrics=['accuracy',keras.metrics.Precision(), keras.metrics.Recall(), keras.metrics.TruePositives()])\n",
        "    \n",
        "    return model"
      ],
      "execution_count": 23,
      "outputs": []
    },
    {
      "cell_type": "markdown",
      "metadata": {
        "id": "HJkWzTMVjppD"
      },
      "source": [
        "### Build the model"
      ]
    },
    {
      "cell_type": "code",
      "metadata": {
        "colab": {
          "base_uri": "https://localhost:8080/"
        },
        "id": "hrQ9eXBVjppD",
        "outputId": "51c9fde3-1dcc-478c-9d94-e8ef3f31971f"
      },
      "source": [
        "model = build_model(bert_layer, max_len = 30)\n",
        "model.summary()"
      ],
      "execution_count": 26,
      "outputs": [
        {
          "output_type": "stream",
          "text": [
            "Model: \"model_1\"\n",
            "__________________________________________________________________________________________________\n",
            "Layer (type)                    Output Shape         Param #     Connected to                     \n",
            "==================================================================================================\n",
            "input_word_ids (InputLayer)     [(None, 30)]         0                                            \n",
            "__________________________________________________________________________________________________\n",
            "input_mask (InputLayer)         [(None, 30)]         0                                            \n",
            "__________________________________________________________________________________________________\n",
            "segment_ids (InputLayer)        [(None, 30)]         0                                            \n",
            "__________________________________________________________________________________________________\n",
            "keras_layer (KerasLayer)        [(None, 768), (None, 109482241   input_word_ids[0][0]             \n",
            "                                                                 input_mask[0][0]                 \n",
            "                                                                 segment_ids[0][0]                \n",
            "__________________________________________________________________________________________________\n",
            "tf.__operators__.getitem_1 (Sli (None, 768)          0           keras_layer[1][1]                \n",
            "__________________________________________________________________________________________________\n",
            "dense_1 (Dense)                 (None, 5)            3845        tf.__operators__.getitem_1[0][0] \n",
            "==================================================================================================\n",
            "Total params: 109,486,086\n",
            "Trainable params: 109,486,085\n",
            "Non-trainable params: 1\n",
            "__________________________________________________________________________________________________\n"
          ],
          "name": "stdout"
        }
      ]
    },
    {
      "cell_type": "markdown",
      "metadata": {
        "id": "awkChzSNjppE"
      },
      "source": [
        "\n",
        "\n",
        "### Training"
      ]
    },
    {
      "cell_type": "code",
      "metadata": {
        "colab": {
          "base_uri": "https://localhost:8080/"
        },
        "id": "0ua5iQ8AjppE",
        "outputId": "e743404b-25f0-495d-e774-c3fb7252381e"
      },
      "source": [
        "earlyStopping = EarlyStopping(monitor='val_loss', min_delta=0, patience=3, verbose=0, mode='auto')\n",
        "\n",
        "train_history = model.fit(\n",
        "    train_input, train_labels,\n",
        "    validation_split=0.2,\n",
        "    epochs=10,\n",
        "    #batch_size=50,\n",
        "    callbacks=[earlyStopping]\n",
        ")"
      ],
      "execution_count": 37,
      "outputs": [
        {
          "output_type": "stream",
          "text": [
            "Epoch 1/10\n",
            "1028/1028 [==============================] - 234s 228ms/step - loss: 0.2860 - accuracy: 0.6841 - precision_1: 0.6417 - recall_1: 0.4630 - true_positives_1: 62294.0312 - val_loss: 0.2670 - val_accuracy: 0.7049 - val_precision_1: 0.6527 - val_recall_1: 0.4909 - val_true_positives_1: 75992.3750\n",
            "Epoch 2/10\n",
            "1028/1028 [==============================] - 234s 227ms/step - loss: 0.2680 - accuracy: 0.7126 - precision_1: 0.6628 - recall_1: 0.5140 - true_positives_1: 90218.3359 - val_loss: 0.2573 - val_accuracy: 0.7213 - val_precision_1: 0.6712 - val_recall_1: 0.5334 - val_true_positives_1: 104481.1484\n",
            "Epoch 3/10\n",
            "1028/1028 [==============================] - 234s 227ms/step - loss: 0.2531 - accuracy: 0.7327 - precision_1: 0.6785 - recall_1: 0.5499 - true_positives_1: 119081.5547 - val_loss: 0.2552 - val_accuracy: 0.7296 - val_precision_1: 0.6858 - val_recall_1: 0.5651 - val_true_positives_1: 133906.3125\n",
            "Epoch 4/10\n",
            "1028/1028 [==============================] - 234s 228ms/step - loss: 0.2408 - accuracy: 0.7526 - precision_1: 0.6921 - recall_1: 0.5782 - true_positives_1: 148941.5156 - val_loss: 0.2431 - val_accuracy: 0.7496 - val_precision_1: 0.6984 - val_recall_1: 0.5904 - val_true_positives_1: 164169.9688\n",
            "Epoch 5/10\n",
            "1028/1028 [==============================] - 234s 228ms/step - loss: 0.2292 - accuracy: 0.7657 - precision_1: 0.7040 - recall_1: 0.6013 - true_positives_1: 179586.9219 - val_loss: 0.2397 - val_accuracy: 0.7572 - val_precision_1: 0.7092 - val_recall_1: 0.6111 - val_true_positives_1: 195042.7031\n",
            "Epoch 6/10\n",
            "1028/1028 [==============================] - 234s 227ms/step - loss: 0.2194 - accuracy: 0.7781 - precision_1: 0.7143 - recall_1: 0.6204 - true_positives_1: 210769.1562 - val_loss: 0.2397 - val_accuracy: 0.7602 - val_precision_1: 0.7187 - val_recall_1: 0.6285 - val_true_positives_1: 226414.5000\n",
            "Epoch 7/10\n",
            "1028/1028 [==============================] - 234s 228ms/step - loss: 0.2105 - accuracy: 0.7917 - precision_1: 0.7231 - recall_1: 0.6364 - true_positives_1: 242370.4844 - val_loss: 0.2407 - val_accuracy: 0.7548 - val_precision_1: 0.7270 - val_recall_1: 0.6436 - val_true_positives_1: 258272.2031\n",
            "Epoch 8/10\n",
            "1028/1028 [==============================] - 234s 228ms/step - loss: 0.2014 - accuracy: 0.8027 - precision_1: 0.7310 - recall_1: 0.6503 - true_positives_1: 274389.0625 - val_loss: 0.2508 - val_accuracy: 0.7501 - val_precision_1: 0.7346 - val_recall_1: 0.6566 - val_true_positives_1: 290485.7188\n",
            "Epoch 9/10\n",
            "1028/1028 [==============================] - 234s 228ms/step - loss: 0.1935 - accuracy: 0.8137 - precision_1: 0.7381 - recall_1: 0.6626 - true_positives_1: 306772.0000 - val_loss: 0.2436 - val_accuracy: 0.7591 - val_precision_1: 0.7415 - val_recall_1: 0.6683 - val_true_positives_1: 323099.1250\n"
          ],
          "name": "stdout"
        }
      ]
    },
    {
      "cell_type": "markdown",
      "metadata": {
        "id": "ZYGvkC94jppC"
      },
      "source": [
        "### Learning curves"
      ]
    },
    {
      "cell_type": "code",
      "metadata": {
        "id": "MZCGhHZUjppC"
      },
      "source": [
        "def plot_loss_acc(history):\n",
        "\n",
        "    acc=history['accuracy']\n",
        "    val_acc=history['val_accuracy']\n",
        "    loss=history['loss']\n",
        "    val_loss=history['val_loss']\n",
        "\n",
        "    fig, axs = plt.subplots(2)\n",
        "    axs[0].plot(loss)\n",
        "    axs[0].plot(val_loss)\n",
        "    axs[0].set_title('Training and Validation Losses')\n",
        "    axs[0].set_xlabel('Epoch')\n",
        "    axs[0].set_ylabel('Loss')\n",
        "    axs[0].legend(['Train', 'Val'])\n",
        "    axs[1].plot(acc)\n",
        "    axs[1].plot(val_acc)\n",
        "    axs[1].set_title('Training and Validation Losses')\n",
        "    axs[1].set_xlabel('Epoch')\n",
        "    axs[1].set_ylabel('Accuracy')\n",
        "    axs[1].legend(['Train', 'Val'])\n",
        "    fig.tight_layout()\n",
        "    plt.show()"
      ],
      "execution_count": 38,
      "outputs": []
    },
    {
      "cell_type": "code",
      "metadata": {
        "colab": {
          "base_uri": "https://localhost:8080/",
          "height": 297
        },
        "id": "KVvVOgDujppE",
        "outputId": "6a652d65-7ad6-4369-a675-4c33ad1c7630"
      },
      "source": [
        "plot_loss_acc(train_history.history)"
      ],
      "execution_count": 39,
      "outputs": [
        {
          "output_type": "display_data",
          "data": {
            "image/png": "[encoded data removed]",
            "text/plain": [
              "<Figure size 432x288 with 2 Axes>"
            ]
          },
          "metadata": {
            "tags": [],
            "needs_background": "light"
          }
        }
      ]
    },
    {
      "cell_type": "markdown",
      "metadata": {
        "id": "-Ly1ANaVjppF"
      },
      "source": [
        "### Evaluation on test dataset\n",
        "\n",
        "---\n",
        "\n"
      ]
    },
    {
      "cell_type": "code",
      "metadata": {
        "id": "NsMPB66xjppF"
      },
      "source": [
        "test_pred = model.predict(test_input)\n",
        "test_pred = test_pred.round().astype(int)"
      ],
      "execution_count": 40,
      "outputs": []
    },
    {
      "cell_type": "code",
      "metadata": {
        "id": "-BnI_KaHuOuq"
      },
      "source": [
        "labels = {'Extremely Negative': 0,\n",
        "          'Extremely Positive': 1,\n",
        "          'Negative': 2,\n",
        "          'Neutral': 3,\n",
        "          'Positive': 4}"
      ],
      "execution_count": 41,
      "outputs": []
    },
    {
      "cell_type": "code",
      "metadata": {
        "id": "iwRwXOW0jppG"
      },
      "source": [
        "# transforming the pred vectors to its label:\n",
        "test_pred_cat = np.zeros(test_pred.shape[0],)\n",
        "test_labels_cat = np.zeros(test_pred.shape[0],)\n",
        "for i in range(0,test_pred.shape[0],1):\n",
        "  test_pred_cat[i] = test_pred[i].argmax()\n",
        "  test_labels_cat[i] = test_labels[i].argmax()\n",
        "\n",
        "test_pred_cat = test_pred_cat.astype(int)\n",
        "test_labels_cat = test_labels_cat.astype(int)"
      ],
      "execution_count": 42,
      "outputs": []
    },
    {
      "cell_type": "code",
      "metadata": {
        "colab": {
          "base_uri": "https://localhost:8080/"
        },
        "id": "ZxdDRBg9jppG",
        "outputId": "5a6578d8-da90-4619-9c63-a73d441a1be9"
      },
      "source": [
        "print(classification_report(test_labels_cat, test_pred_cat, target_names= labels.keys()))"
      ],
      "execution_count": 43,
      "outputs": [
        {
          "output_type": "stream",
          "text": [
            "                    precision    recall  f1-score   support\n",
            "\n",
            "Extremely Negative       0.66      0.72      0.69       592\n",
            "Extremely Positive       0.76      0.77      0.77       599\n",
            "          Negative       0.67      0.67      0.67      1041\n",
            "           Neutral       0.82      0.73      0.77       616\n",
            "          Positive       0.66      0.67      0.66       947\n",
            "\n",
            "          accuracy                           0.70      3795\n",
            "         macro avg       0.71      0.71      0.71      3795\n",
            "      weighted avg       0.70      0.70      0.70      3795\n",
            "\n"
          ],
          "name": "stdout"
        }
      ]
    },
    {
      "cell_type": "code",
      "metadata": {
        "colab": {
          "base_uri": "https://localhost:8080/",
          "height": 694
        },
        "id": "AufkyR6LjppG",
        "outputId": "618f357e-047e-46fa-bb4f-2ba356346862"
      },
      "source": [
        "# confusion matrix\n",
        "\n",
        "conf_mat = confusion_matrix(test_labels_cat, test_pred_cat)\n",
        "fig, ax = plt.subplots(figsize=(10,10))\n",
        "sns.heatmap(conf_mat, annot=True, fmt='d',\n",
        "            xticklabels=labels.keys(), yticklabels=labels.keys())\n",
        "plt.ylabel('Actual')\n",
        "plt.xlabel('Predicted')\n",
        "plt.show()"
      ],
      "execution_count": 44,
      "outputs": [
        {
          "output_type": "display_data",
          "data": {
            "image/png": "[encoded data removed]",
            "text/plain": [
              "<Figure size 720x720 with 2 Axes>"
            ]
          },
          "metadata": {
            "tags": [],
            "needs_background": "light"
          }
        }
      ]
    }
  ]
}